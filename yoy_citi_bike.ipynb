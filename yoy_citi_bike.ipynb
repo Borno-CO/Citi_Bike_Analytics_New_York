{
 "cells": [
  {
   "cell_type": "markdown",
   "metadata": {},
   "source": [
    "## Compile 2016 thru 2019 Citi Bike ride data for Year-Over-Year (YOY) analysis \n",
    "## Script 2 of 2"
   ]
  },
  {
   "cell_type": "markdown",
   "metadata": {},
   "source": [
    "> Many of the questions posed by Citi Bike management require trend analysis over multiple years. Because the source data size is so enormous, I made the decision to confine the analysis to the busiest ride season comprised of the months: July, August, and September. These months will enable study of peak rider participation for both members and those purchasing one-day or three-day passes. \n",
    "\n",
    "> **The YOY data is prepared using two different Jupyter Notebook scripts. This second script** combines the monthly data from 2016 through 2019 into a single dataframe and processes the combined file further by cleaning data and creating additional variables (columns).\n",
    "\n",
    ">NOTE: the **downloaded source data** is *not* cloned to GitHub due to its size. Files with sample source records for 201607 are included in the 'Resources' folder on GitHub. Also, **output files for Tableau** only contain a sample of records in the 'Output' folder; again, due to file size constraints."
   ]
  },
  {
   "cell_type": "code",
   "execution_count": 4,
   "metadata": {},
   "outputs": [],
   "source": [
    "# import libraries\n",
    "import pandas as pd\n",
    "import numpy as np"
   ]
  },
  {
   "cell_type": "markdown",
   "metadata": {},
   "source": [
    "#### read in the source csv files for each month"
   ]
  },
  {
   "cell_type": "code",
   "execution_count": 5,
   "metadata": {},
   "outputs": [],
   "source": [
    "file_path = ('Resources/YOY_citi_201607.csv')\n",
    "yoy_1607_df = pd.read_csv(file_path)"
   ]
  },
  {
   "cell_type": "code",
   "execution_count": 6,
   "metadata": {},
   "outputs": [],
   "source": [
    "file_path = ('Resources/YOY_citi_201608.csv')\n",
    "yoy_1608_df = pd.read_csv(file_path)"
   ]
  },
  {
   "cell_type": "code",
   "execution_count": 7,
   "metadata": {},
   "outputs": [],
   "source": [
    "file_path = ('Resources/YOY_citi_201609.csv')\n",
    "yoy_1609_df = pd.read_csv(file_path)"
   ]
  },
  {
   "cell_type": "code",
   "execution_count": 8,
   "metadata": {},
   "outputs": [],
   "source": [
    "file_path = ('Resources/YOY_citi_201707.csv')\n",
    "yoy_1707_df = pd.read_csv(file_path)"
   ]
  },
  {
   "cell_type": "code",
   "execution_count": 9,
   "metadata": {},
   "outputs": [],
   "source": [
    "file_path = ('Resources/YOY_citi_201708.csv')\n",
    "yoy_1708_df = pd.read_csv(file_path)"
   ]
  },
  {
   "cell_type": "code",
   "execution_count": 10,
   "metadata": {},
   "outputs": [],
   "source": [
    "file_path = ('Resources/YOY_citi_201709.csv')\n",
    "yoy_1709_df = pd.read_csv(file_path)"
   ]
  },
  {
   "cell_type": "code",
   "execution_count": 11,
   "metadata": {},
   "outputs": [],
   "source": [
    "file_path = ('Resources/YOY_citi_201807.csv')\n",
    "yoy_1807_df = pd.read_csv(file_path)"
   ]
  },
  {
   "cell_type": "code",
   "execution_count": 12,
   "metadata": {},
   "outputs": [],
   "source": [
    "file_path = ('Resources/YOY_citi_201808.csv')\n",
    "yoy_1808_df = pd.read_csv(file_path)"
   ]
  },
  {
   "cell_type": "code",
   "execution_count": 13,
   "metadata": {},
   "outputs": [],
   "source": [
    "file_path = ('Resources/YOY_citi_201809.csv')\n",
    "yoy_1809_df = pd.read_csv(file_path)"
   ]
  },
  {
   "cell_type": "code",
   "execution_count": 14,
   "metadata": {},
   "outputs": [],
   "source": [
    "file_path = ('Resources/YOY_citi_201907.csv')\n",
    "yoy_1907_df = pd.read_csv(file_path)"
   ]
  },
  {
   "cell_type": "code",
   "execution_count": 15,
   "metadata": {},
   "outputs": [],
   "source": [
    "file_path = ('Resources/YOY_citi_201908.csv')\n",
    "yoy_1908_df = pd.read_csv(file_path)"
   ]
  },
  {
   "cell_type": "code",
   "execution_count": 16,
   "metadata": {},
   "outputs": [],
   "source": [
    "file_path = ('Resources/YOY_citi_201909.csv')\n",
    "yoy_1909_df = pd.read_csv(file_path)"
   ]
  },
  {
   "cell_type": "markdown",
   "metadata": {},
   "source": [
    "#### append each monthly file to successive dataframes that accumulate all YOY months of detailed ride data into a single dataframe called 'yoy_julsep_df'"
   ]
  },
  {
   "cell_type": "code",
   "execution_count": 17,
   "metadata": {},
   "outputs": [],
   "source": [
    "yoy2_df = yoy_1607_df.append(yoy_1608_df, ignore_index = True) "
   ]
  },
  {
   "cell_type": "code",
   "execution_count": 18,
   "metadata": {},
   "outputs": [],
   "source": [
    "yoy3_df = yoy2_df.append(yoy_1609_df, ignore_index = True)"
   ]
  },
  {
   "cell_type": "code",
   "execution_count": 19,
   "metadata": {},
   "outputs": [],
   "source": [
    "yoy4_df = yoy3_df.append(yoy_1707_df, ignore_index = True)"
   ]
  },
  {
   "cell_type": "code",
   "execution_count": 20,
   "metadata": {},
   "outputs": [],
   "source": [
    "yoy5_df = yoy4_df.append(yoy_1708_df, ignore_index = True)"
   ]
  },
  {
   "cell_type": "code",
   "execution_count": 21,
   "metadata": {},
   "outputs": [],
   "source": [
    "yoy6_df = yoy5_df.append(yoy_1709_df, ignore_index = True)"
   ]
  },
  {
   "cell_type": "code",
   "execution_count": 22,
   "metadata": {},
   "outputs": [],
   "source": [
    "yoy7_df = yoy6_df.append(yoy_1807_df, ignore_index = True)"
   ]
  },
  {
   "cell_type": "code",
   "execution_count": 23,
   "metadata": {},
   "outputs": [],
   "source": [
    "yoy8_df = yoy7_df.append(yoy_1808_df, ignore_index = True)"
   ]
  },
  {
   "cell_type": "code",
   "execution_count": 24,
   "metadata": {},
   "outputs": [],
   "source": [
    "yoy9_df = yoy8_df.append(yoy_1809_df, ignore_index = True)"
   ]
  },
  {
   "cell_type": "code",
   "execution_count": 25,
   "metadata": {},
   "outputs": [],
   "source": [
    "yoy10_df = yoy9_df.append(yoy_1907_df, ignore_index = True)"
   ]
  },
  {
   "cell_type": "code",
   "execution_count": 26,
   "metadata": {},
   "outputs": [],
   "source": [
    "yoy11_df = yoy10_df.append(yoy_1908_df, ignore_index = True)"
   ]
  },
  {
   "cell_type": "code",
   "execution_count": 27,
   "metadata": {},
   "outputs": [],
   "source": [
    "yoy_julsep_df = yoy11_df.append(yoy_1909_df, ignore_index = True)"
   ]
  },
  {
   "cell_type": "markdown",
   "metadata": {},
   "source": [
    "#### inspect data types, sample table records, value counts "
   ]
  },
  {
   "cell_type": "code",
   "execution_count": 28,
   "metadata": {},
   "outputs": [
    {
     "data": {
      "text/plain": [
       "tripduration                 int64\n",
       "starttime                   object\n",
       "stoptime                    object\n",
       "start station id           float64\n",
       "start station name          object\n",
       "start station latitude     float64\n",
       "start station longitude    float64\n",
       "end station id             float64\n",
       "end station name            object\n",
       "end station latitude       float64\n",
       "end station longitude      float64\n",
       "bikeid                       int64\n",
       "usertype                    object\n",
       "birth year                 float64\n",
       "gender                       int64\n",
       "dtype: object"
      ]
     },
     "execution_count": 28,
     "metadata": {},
     "output_type": "execute_result"
    }
   ],
   "source": [
    "yoy_julsep_df.dtypes"
   ]
  },
  {
   "cell_type": "code",
   "execution_count": 29,
   "metadata": {},
   "outputs": [
    {
     "data": {
      "text/html": [
       "<div>\n",
       "<style scoped>\n",
       "    .dataframe tbody tr th:only-of-type {\n",
       "        vertical-align: middle;\n",
       "    }\n",
       "\n",
       "    .dataframe tbody tr th {\n",
       "        vertical-align: top;\n",
       "    }\n",
       "\n",
       "    .dataframe thead th {\n",
       "        text-align: right;\n",
       "    }\n",
       "</style>\n",
       "<table border=\"1\" class=\"dataframe\">\n",
       "  <thead>\n",
       "    <tr style=\"text-align: right;\">\n",
       "      <th></th>\n",
       "      <th>tripduration</th>\n",
       "      <th>starttime</th>\n",
       "      <th>stoptime</th>\n",
       "      <th>start station id</th>\n",
       "      <th>start station name</th>\n",
       "      <th>start station latitude</th>\n",
       "      <th>start station longitude</th>\n",
       "      <th>end station id</th>\n",
       "      <th>end station name</th>\n",
       "      <th>end station latitude</th>\n",
       "      <th>end station longitude</th>\n",
       "      <th>bikeid</th>\n",
       "      <th>usertype</th>\n",
       "      <th>birth year</th>\n",
       "      <th>gender</th>\n",
       "    </tr>\n",
       "  </thead>\n",
       "  <tbody>\n",
       "    <tr>\n",
       "      <th>0</th>\n",
       "      <td>609</td>\n",
       "      <td>2016-07-01 00:00:31</td>\n",
       "      <td>2016-07-01 00:10:40</td>\n",
       "      <td>284.0</td>\n",
       "      <td>Greenwich Ave &amp; 8 Ave</td>\n",
       "      <td>40.739017</td>\n",
       "      <td>-74.002638</td>\n",
       "      <td>212.0</td>\n",
       "      <td>W 16 St &amp; The High Line</td>\n",
       "      <td>40.743349</td>\n",
       "      <td>-74.006818</td>\n",
       "      <td>15514</td>\n",
       "      <td>Customer</td>\n",
       "      <td>NaN</td>\n",
       "      <td>0</td>\n",
       "    </tr>\n",
       "    <tr>\n",
       "      <th>1</th>\n",
       "      <td>672</td>\n",
       "      <td>2016-07-01 00:00:45</td>\n",
       "      <td>2016-07-01 00:11:57</td>\n",
       "      <td>459.0</td>\n",
       "      <td>W 20 St &amp; 11 Ave</td>\n",
       "      <td>40.746745</td>\n",
       "      <td>-74.007756</td>\n",
       "      <td>347.0</td>\n",
       "      <td>Greenwich St &amp; W Houston St</td>\n",
       "      <td>40.728846</td>\n",
       "      <td>-74.008591</td>\n",
       "      <td>15444</td>\n",
       "      <td>Subscriber</td>\n",
       "      <td>1991.0</td>\n",
       "      <td>1</td>\n",
       "    </tr>\n",
       "    <tr>\n",
       "      <th>2</th>\n",
       "      <td>472</td>\n",
       "      <td>2016-07-01 00:00:55</td>\n",
       "      <td>2016-07-01 00:08:48</td>\n",
       "      <td>319.0</td>\n",
       "      <td>Fulton St &amp; Broadway</td>\n",
       "      <td>40.711066</td>\n",
       "      <td>-74.009447</td>\n",
       "      <td>263.0</td>\n",
       "      <td>Elizabeth St &amp; Hester St</td>\n",
       "      <td>40.717591</td>\n",
       "      <td>-73.996224</td>\n",
       "      <td>15666</td>\n",
       "      <td>Subscriber</td>\n",
       "      <td>1986.0</td>\n",
       "      <td>2</td>\n",
       "    </tr>\n",
       "    <tr>\n",
       "      <th>3</th>\n",
       "      <td>659</td>\n",
       "      <td>2016-07-01 00:02:13</td>\n",
       "      <td>2016-07-01 00:13:13</td>\n",
       "      <td>237.0</td>\n",
       "      <td>E 11 St &amp; 2 Ave</td>\n",
       "      <td>40.730473</td>\n",
       "      <td>-73.986724</td>\n",
       "      <td>519.0</td>\n",
       "      <td>Pershing Square North</td>\n",
       "      <td>40.751873</td>\n",
       "      <td>-73.977706</td>\n",
       "      <td>25283</td>\n",
       "      <td>Subscriber</td>\n",
       "      <td>1970.0</td>\n",
       "      <td>1</td>\n",
       "    </tr>\n",
       "    <tr>\n",
       "      <th>4</th>\n",
       "      <td>275</td>\n",
       "      <td>2016-07-01 00:02:47</td>\n",
       "      <td>2016-07-01 00:07:22</td>\n",
       "      <td>511.0</td>\n",
       "      <td>E 14 St &amp; Avenue B</td>\n",
       "      <td>40.729387</td>\n",
       "      <td>-73.977724</td>\n",
       "      <td>483.0</td>\n",
       "      <td>E 12 St &amp; 3 Ave</td>\n",
       "      <td>40.732233</td>\n",
       "      <td>-73.988900</td>\n",
       "      <td>25912</td>\n",
       "      <td>Subscriber</td>\n",
       "      <td>1984.0</td>\n",
       "      <td>1</td>\n",
       "    </tr>\n",
       "    <tr>\n",
       "      <th>5</th>\n",
       "      <td>247</td>\n",
       "      <td>2016-07-01 00:04:30</td>\n",
       "      <td>2016-07-01 00:08:37</td>\n",
       "      <td>3135.0</td>\n",
       "      <td>E 75 St &amp; 3 Ave</td>\n",
       "      <td>40.771129</td>\n",
       "      <td>-73.957723</td>\n",
       "      <td>3231.0</td>\n",
       "      <td>E 67 St &amp; Park Ave</td>\n",
       "      <td>40.767801</td>\n",
       "      <td>-73.965921</td>\n",
       "      <td>20871</td>\n",
       "      <td>Subscriber</td>\n",
       "      <td>1989.0</td>\n",
       "      <td>1</td>\n",
       "    </tr>\n",
       "    <tr>\n",
       "      <th>6</th>\n",
       "      <td>1816</td>\n",
       "      <td>2016-07-01 00:05:26</td>\n",
       "      <td>2016-07-01 00:35:43</td>\n",
       "      <td>3074.0</td>\n",
       "      <td>Montrose Ave &amp; Bushwick Ave</td>\n",
       "      <td>40.707678</td>\n",
       "      <td>-73.940162</td>\n",
       "      <td>439.0</td>\n",
       "      <td>E 4 St &amp; 2 Ave</td>\n",
       "      <td>40.726281</td>\n",
       "      <td>-73.989780</td>\n",
       "      <td>25251</td>\n",
       "      <td>Subscriber</td>\n",
       "      <td>1993.0</td>\n",
       "      <td>1</td>\n",
       "    </tr>\n",
       "    <tr>\n",
       "      <th>7</th>\n",
       "      <td>693</td>\n",
       "      <td>2016-07-01 00:06:21</td>\n",
       "      <td>2016-07-01 00:17:54</td>\n",
       "      <td>293.0</td>\n",
       "      <td>Lafayette St &amp; E 8 St</td>\n",
       "      <td>40.730287</td>\n",
       "      <td>-73.990765</td>\n",
       "      <td>518.0</td>\n",
       "      <td>E 39 St &amp; 2 Ave</td>\n",
       "      <td>40.747804</td>\n",
       "      <td>-73.973442</td>\n",
       "      <td>23602</td>\n",
       "      <td>Subscriber</td>\n",
       "      <td>1986.0</td>\n",
       "      <td>1</td>\n",
       "    </tr>\n",
       "    <tr>\n",
       "      <th>8</th>\n",
       "      <td>947</td>\n",
       "      <td>2016-07-01 00:07:32</td>\n",
       "      <td>2016-07-01 00:23:20</td>\n",
       "      <td>479.0</td>\n",
       "      <td>9 Ave &amp; W 45 St</td>\n",
       "      <td>40.760193</td>\n",
       "      <td>-73.991255</td>\n",
       "      <td>153.0</td>\n",
       "      <td>E 40 St &amp; 5 Ave</td>\n",
       "      <td>40.752062</td>\n",
       "      <td>-73.981632</td>\n",
       "      <td>25728</td>\n",
       "      <td>Customer</td>\n",
       "      <td>NaN</td>\n",
       "      <td>0</td>\n",
       "    </tr>\n",
       "    <tr>\n",
       "      <th>9</th>\n",
       "      <td>244</td>\n",
       "      <td>2016-07-01 00:08:41</td>\n",
       "      <td>2016-07-01 00:12:45</td>\n",
       "      <td>3224.0</td>\n",
       "      <td>W 13 St &amp; Hudson St</td>\n",
       "      <td>40.739974</td>\n",
       "      <td>-74.005139</td>\n",
       "      <td>383.0</td>\n",
       "      <td>Greenwich Ave &amp; Charles St</td>\n",
       "      <td>40.735238</td>\n",
       "      <td>-74.000271</td>\n",
       "      <td>19202</td>\n",
       "      <td>Subscriber</td>\n",
       "      <td>1986.0</td>\n",
       "      <td>1</td>\n",
       "    </tr>\n",
       "  </tbody>\n",
       "</table>\n",
       "</div>"
      ],
      "text/plain": [
       "   tripduration            starttime             stoptime  start station id  \\\n",
       "0           609  2016-07-01 00:00:31  2016-07-01 00:10:40             284.0   \n",
       "1           672  2016-07-01 00:00:45  2016-07-01 00:11:57             459.0   \n",
       "2           472  2016-07-01 00:00:55  2016-07-01 00:08:48             319.0   \n",
       "3           659  2016-07-01 00:02:13  2016-07-01 00:13:13             237.0   \n",
       "4           275  2016-07-01 00:02:47  2016-07-01 00:07:22             511.0   \n",
       "5           247  2016-07-01 00:04:30  2016-07-01 00:08:37            3135.0   \n",
       "6          1816  2016-07-01 00:05:26  2016-07-01 00:35:43            3074.0   \n",
       "7           693  2016-07-01 00:06:21  2016-07-01 00:17:54             293.0   \n",
       "8           947  2016-07-01 00:07:32  2016-07-01 00:23:20             479.0   \n",
       "9           244  2016-07-01 00:08:41  2016-07-01 00:12:45            3224.0   \n",
       "\n",
       "            start station name  start station latitude  \\\n",
       "0        Greenwich Ave & 8 Ave               40.739017   \n",
       "1             W 20 St & 11 Ave               40.746745   \n",
       "2         Fulton St & Broadway               40.711066   \n",
       "3              E 11 St & 2 Ave               40.730473   \n",
       "4           E 14 St & Avenue B               40.729387   \n",
       "5              E 75 St & 3 Ave               40.771129   \n",
       "6  Montrose Ave & Bushwick Ave               40.707678   \n",
       "7        Lafayette St & E 8 St               40.730287   \n",
       "8              9 Ave & W 45 St               40.760193   \n",
       "9          W 13 St & Hudson St               40.739974   \n",
       "\n",
       "   start station longitude  end station id             end station name  \\\n",
       "0               -74.002638           212.0      W 16 St & The High Line   \n",
       "1               -74.007756           347.0  Greenwich St & W Houston St   \n",
       "2               -74.009447           263.0     Elizabeth St & Hester St   \n",
       "3               -73.986724           519.0        Pershing Square North   \n",
       "4               -73.977724           483.0              E 12 St & 3 Ave   \n",
       "5               -73.957723          3231.0           E 67 St & Park Ave   \n",
       "6               -73.940162           439.0               E 4 St & 2 Ave   \n",
       "7               -73.990765           518.0              E 39 St & 2 Ave   \n",
       "8               -73.991255           153.0              E 40 St & 5 Ave   \n",
       "9               -74.005139           383.0   Greenwich Ave & Charles St   \n",
       "\n",
       "   end station latitude  end station longitude  bikeid    usertype  \\\n",
       "0             40.743349             -74.006818   15514    Customer   \n",
       "1             40.728846             -74.008591   15444  Subscriber   \n",
       "2             40.717591             -73.996224   15666  Subscriber   \n",
       "3             40.751873             -73.977706   25283  Subscriber   \n",
       "4             40.732233             -73.988900   25912  Subscriber   \n",
       "5             40.767801             -73.965921   20871  Subscriber   \n",
       "6             40.726281             -73.989780   25251  Subscriber   \n",
       "7             40.747804             -73.973442   23602  Subscriber   \n",
       "8             40.752062             -73.981632   25728    Customer   \n",
       "9             40.735238             -74.000271   19202  Subscriber   \n",
       "\n",
       "   birth year  gender  \n",
       "0         NaN       0  \n",
       "1      1991.0       1  \n",
       "2      1986.0       2  \n",
       "3      1970.0       1  \n",
       "4      1984.0       1  \n",
       "5      1989.0       1  \n",
       "6      1993.0       1  \n",
       "7      1986.0       1  \n",
       "8         NaN       0  \n",
       "9      1986.0       1  "
      ]
     },
     "execution_count": 29,
     "metadata": {},
     "output_type": "execute_result"
    }
   ],
   "source": [
    "yoy_julsep_df.head(10)"
   ]
  },
  {
   "cell_type": "code",
   "execution_count": 30,
   "metadata": {},
   "outputs": [
    {
     "data": {
      "text/plain": [
       "1969.0    149107\n",
       "1989.0     93719\n",
       "1988.0     93654\n",
       "1990.0     92627\n",
       "1987.0     85888\n",
       "1991.0     85791\n",
       "1986.0     82797\n",
       "1985.0     81452\n",
       "1992.0     80758\n",
       "1984.0     75191\n",
       "1993.0     70064\n",
       "1983.0     69205\n",
       "1982.0     65078\n",
       "1981.0     60036\n",
       "1994.0     54850\n",
       "1980.0     54693\n",
       "1979.0     49879\n",
       "1978.0     44475\n",
       "1977.0     42614\n",
       "1976.0     41555\n",
       "1995.0     41063\n",
       "1975.0     38934\n",
       "1970.0     38415\n",
       "1974.0     37086\n",
       "1971.0     35518\n",
       "1973.0     35198\n",
       "1972.0     34551\n",
       "1968.0     31840\n",
       "1967.0     30166\n",
       "1966.0     28153\n",
       "           ...  \n",
       "1917.0        39\n",
       "1887.0        38\n",
       "1931.0        36\n",
       "1889.0        35\n",
       "1910.0        33\n",
       "1928.0        32\n",
       "1912.0        32\n",
       "1899.0        30\n",
       "1886.0        30\n",
       "1930.0        29\n",
       "1924.0        29\n",
       "1890.0        28\n",
       "1918.0        25\n",
       "1921.0        25\n",
       "1929.0        20\n",
       "1926.0        20\n",
       "1895.0        19\n",
       "1896.0        18\n",
       "1919.0        16\n",
       "1893.0        13\n",
       "1909.0         8\n",
       "1894.0         7\n",
       "1911.0         6\n",
       "1913.0         6\n",
       "1907.0         4\n",
       "1915.0         4\n",
       "1927.0         4\n",
       "1920.0         2\n",
       "1922.0         2\n",
       "1904.0         1\n",
       "Name: birth year, Length: 107, dtype: int64"
      ]
     },
     "execution_count": 30,
     "metadata": {},
     "output_type": "execute_result"
    }
   ],
   "source": [
    "yoy_julsep_df[\"birth year\"].value_counts()"
   ]
  },
  {
   "cell_type": "code",
   "execution_count": 31,
   "metadata": {},
   "outputs": [
    {
     "data": {
      "text/plain": [
       "1    1509649\n",
       "2     553689\n",
       "0     258015\n",
       "Name: gender, dtype: int64"
      ]
     },
     "execution_count": 31,
     "metadata": {},
     "output_type": "execute_result"
    }
   ],
   "source": [
    "yoy_julsep_df[\"gender\"].value_counts()"
   ]
  },
  {
   "cell_type": "markdown",
   "metadata": {},
   "source": [
    "#### assign random integers to each record"
   ]
  },
  {
   "cell_type": "code",
   "execution_count": 32,
   "metadata": {},
   "outputs": [],
   "source": [
    "yoy_julsep_df['Random_integer'] = np.random.randint(0,100000,size=(len(yoy_julsep_df),1))"
   ]
  },
  {
   "cell_type": "code",
   "execution_count": 33,
   "metadata": {},
   "outputs": [],
   "source": [
    "# citi_2019_df['mod3'] = citi_2019_df['Random_integer'] % 3"
   ]
  },
  {
   "cell_type": "code",
   "execution_count": 34,
   "metadata": {},
   "outputs": [],
   "source": [
    "# citi_2019_df['mod3'].value_counts()"
   ]
  },
  {
   "cell_type": "markdown",
   "metadata": {},
   "source": [
    "#### create a new column containing modulus '2' values calculated using the Random_integer column; the modulus values will be used in the approximate age calculation later in the script"
   ]
  },
  {
   "cell_type": "code",
   "execution_count": 35,
   "metadata": {},
   "outputs": [],
   "source": [
    "yoy_julsep_df['mod2'] = yoy_julsep_df['Random_integer'] % 2"
   ]
  },
  {
   "cell_type": "code",
   "execution_count": 36,
   "metadata": {},
   "outputs": [
    {
     "data": {
      "text/plain": [
       "0    1161189\n",
       "1    1160164\n",
       "Name: mod2, dtype: int64"
      ]
     },
     "execution_count": 36,
     "metadata": {},
     "output_type": "execute_result"
    }
   ],
   "source": [
    "# check for size of the two random samples created using the modulus operation\n",
    "yoy_julsep_df[\"mod2\"].value_counts()"
   ]
  },
  {
   "cell_type": "markdown",
   "metadata": {},
   "source": [
    "#### convert data types"
   ]
  },
  {
   "cell_type": "code",
   "execution_count": 37,
   "metadata": {},
   "outputs": [],
   "source": [
    "# convert ids to strings\n",
    "yoy_julsep_df['start station id'] = yoy_julsep_df['start station id'].apply(str)\n",
    "yoy_julsep_df['end station id'] = yoy_julsep_df['end station id'].apply(str)\n",
    "yoy_julsep_df['bikeid'] = yoy_julsep_df['bikeid'].apply(str)"
   ]
  },
  {
   "cell_type": "code",
   "execution_count": 38,
   "metadata": {},
   "outputs": [],
   "source": [
    "# yoy_julsep_df['startride'] = pd.to_datetime(yoy_julsep_df['starttime'])"
   ]
  },
  {
   "cell_type": "code",
   "execution_count": 39,
   "metadata": {},
   "outputs": [],
   "source": [
    "# yoy_julsep_df['stopride'] = pd.to_datetime(yoy_julsep_df['stoptime'])"
   ]
  },
  {
   "cell_type": "code",
   "execution_count": 40,
   "metadata": {},
   "outputs": [
    {
     "data": {
      "text/html": [
       "<div>\n",
       "<style scoped>\n",
       "    .dataframe tbody tr th:only-of-type {\n",
       "        vertical-align: middle;\n",
       "    }\n",
       "\n",
       "    .dataframe tbody tr th {\n",
       "        vertical-align: top;\n",
       "    }\n",
       "\n",
       "    .dataframe thead th {\n",
       "        text-align: right;\n",
       "    }\n",
       "</style>\n",
       "<table border=\"1\" class=\"dataframe\">\n",
       "  <thead>\n",
       "    <tr style=\"text-align: right;\">\n",
       "      <th></th>\n",
       "      <th>tripduration</th>\n",
       "      <th>start station latitude</th>\n",
       "      <th>start station longitude</th>\n",
       "      <th>end station latitude</th>\n",
       "      <th>end station longitude</th>\n",
       "      <th>birth year</th>\n",
       "      <th>gender</th>\n",
       "      <th>Random_integer</th>\n",
       "      <th>mod2</th>\n",
       "    </tr>\n",
       "  </thead>\n",
       "  <tbody>\n",
       "    <tr>\n",
       "      <th>count</th>\n",
       "      <td>2.321353e+06</td>\n",
       "      <td>2.321353e+06</td>\n",
       "      <td>2.321353e+06</td>\n",
       "      <td>2.321353e+06</td>\n",
       "      <td>2.321353e+06</td>\n",
       "      <td>2.190537e+06</td>\n",
       "      <td>2.321353e+06</td>\n",
       "      <td>2.321353e+06</td>\n",
       "      <td>2.321353e+06</td>\n",
       "    </tr>\n",
       "    <tr>\n",
       "      <th>mean</th>\n",
       "      <td>1.016492e+03</td>\n",
       "      <td>4.073677e+01</td>\n",
       "      <td>-7.398491e+01</td>\n",
       "      <td>4.073514e+01</td>\n",
       "      <td>-7.398274e+01</td>\n",
       "      <td>1.979763e+03</td>\n",
       "      <td>1.127371e+00</td>\n",
       "      <td>4.999145e+04</td>\n",
       "      <td>4.997792e-01</td>\n",
       "    </tr>\n",
       "    <tr>\n",
       "      <th>std</th>\n",
       "      <td>1.060219e+04</td>\n",
       "      <td>2.890255e-02</td>\n",
       "      <td>2.065274e-02</td>\n",
       "      <td>2.302456e-01</td>\n",
       "      <td>4.153997e-01</td>\n",
       "      <td>1.178546e+01</td>\n",
       "      <td>5.774471e-01</td>\n",
       "      <td>2.886292e+04</td>\n",
       "      <td>5.000001e-01</td>\n",
       "    </tr>\n",
       "    <tr>\n",
       "      <th>min</th>\n",
       "      <td>6.100000e+01</td>\n",
       "      <td>4.044535e+01</td>\n",
       "      <td>-7.409694e+01</td>\n",
       "      <td>0.000000e+00</td>\n",
       "      <td>-7.409694e+01</td>\n",
       "      <td>1.885000e+03</td>\n",
       "      <td>0.000000e+00</td>\n",
       "      <td>0.000000e+00</td>\n",
       "      <td>0.000000e+00</td>\n",
       "    </tr>\n",
       "    <tr>\n",
       "      <th>25%</th>\n",
       "      <td>3.850000e+02</td>\n",
       "      <td>4.071757e+01</td>\n",
       "      <td>-7.399726e+01</td>\n",
       "      <td>4.071755e+01</td>\n",
       "      <td>-7.399790e+01</td>\n",
       "      <td>1.970000e+03</td>\n",
       "      <td>1.000000e+00</td>\n",
       "      <td>2.502700e+04</td>\n",
       "      <td>0.000000e+00</td>\n",
       "    </tr>\n",
       "    <tr>\n",
       "      <th>50%</th>\n",
       "      <td>6.570000e+02</td>\n",
       "      <td>4.073653e+01</td>\n",
       "      <td>-7.398714e+01</td>\n",
       "      <td>4.073625e+01</td>\n",
       "      <td>-7.398752e+01</td>\n",
       "      <td>1.982000e+03</td>\n",
       "      <td>1.000000e+00</td>\n",
       "      <td>4.997300e+04</td>\n",
       "      <td>0.000000e+00</td>\n",
       "    </tr>\n",
       "    <tr>\n",
       "      <th>75%</th>\n",
       "      <td>1.147000e+03</td>\n",
       "      <td>4.075641e+01</td>\n",
       "      <td>-7.397422e+01</td>\n",
       "      <td>4.075594e+01</td>\n",
       "      <td>-7.397450e+01</td>\n",
       "      <td>1.989000e+03</td>\n",
       "      <td>1.000000e+00</td>\n",
       "      <td>7.498800e+04</td>\n",
       "      <td>1.000000e+00</td>\n",
       "    </tr>\n",
       "    <tr>\n",
       "      <th>max</th>\n",
       "      <td>4.066982e+06</td>\n",
       "      <td>4.086900e+01</td>\n",
       "      <td>-7.387800e+01</td>\n",
       "      <td>4.086600e+01</td>\n",
       "      <td>0.000000e+00</td>\n",
       "      <td>2.003000e+03</td>\n",
       "      <td>2.000000e+00</td>\n",
       "      <td>9.999900e+04</td>\n",
       "      <td>1.000000e+00</td>\n",
       "    </tr>\n",
       "  </tbody>\n",
       "</table>\n",
       "</div>"
      ],
      "text/plain": [
       "       tripduration  start station latitude  start station longitude  \\\n",
       "count  2.321353e+06            2.321353e+06             2.321353e+06   \n",
       "mean   1.016492e+03            4.073677e+01            -7.398491e+01   \n",
       "std    1.060219e+04            2.890255e-02             2.065274e-02   \n",
       "min    6.100000e+01            4.044535e+01            -7.409694e+01   \n",
       "25%    3.850000e+02            4.071757e+01            -7.399726e+01   \n",
       "50%    6.570000e+02            4.073653e+01            -7.398714e+01   \n",
       "75%    1.147000e+03            4.075641e+01            -7.397422e+01   \n",
       "max    4.066982e+06            4.086900e+01            -7.387800e+01   \n",
       "\n",
       "       end station latitude  end station longitude    birth year  \\\n",
       "count          2.321353e+06           2.321353e+06  2.190537e+06   \n",
       "mean           4.073514e+01          -7.398274e+01  1.979763e+03   \n",
       "std            2.302456e-01           4.153997e-01  1.178546e+01   \n",
       "min            0.000000e+00          -7.409694e+01  1.885000e+03   \n",
       "25%            4.071755e+01          -7.399790e+01  1.970000e+03   \n",
       "50%            4.073625e+01          -7.398752e+01  1.982000e+03   \n",
       "75%            4.075594e+01          -7.397450e+01  1.989000e+03   \n",
       "max            4.086600e+01           0.000000e+00  2.003000e+03   \n",
       "\n",
       "             gender  Random_integer          mod2  \n",
       "count  2.321353e+06    2.321353e+06  2.321353e+06  \n",
       "mean   1.127371e+00    4.999145e+04  4.997792e-01  \n",
       "std    5.774471e-01    2.886292e+04  5.000001e-01  \n",
       "min    0.000000e+00    0.000000e+00  0.000000e+00  \n",
       "25%    1.000000e+00    2.502700e+04  0.000000e+00  \n",
       "50%    1.000000e+00    4.997300e+04  0.000000e+00  \n",
       "75%    1.000000e+00    7.498800e+04  1.000000e+00  \n",
       "max    2.000000e+00    9.999900e+04  1.000000e+00  "
      ]
     },
     "execution_count": 40,
     "metadata": {},
     "output_type": "execute_result"
    }
   ],
   "source": [
    "# inspect data for counts, min/max range, mean\n",
    "yoy_julsep_df.describe()"
   ]
  },
  {
   "cell_type": "markdown",
   "metadata": {},
   "source": [
    "#### convert trip length from seconds to hours for easier comprehension in Tableau visuals"
   ]
  },
  {
   "cell_type": "code",
   "execution_count": 41,
   "metadata": {},
   "outputs": [],
   "source": [
    "yoy_julsep_df['trip_len_hrs'] = yoy_julsep_df['tripduration'] / 3600\n",
    "    "
   ]
  },
  {
   "cell_type": "markdown",
   "metadata": {},
   "source": [
    "#### create new variables for time periods (year, month, quarter, season)"
   ]
  },
  {
   "cell_type": "code",
   "execution_count": 42,
   "metadata": {},
   "outputs": [],
   "source": [
    "# extract trip year from 'starttime' and store in a new column called 'trip_year' \n",
    "yoy_julsep_df['trip_year'] = yoy_julsep_df['starttime'].str[:4]"
   ]
  },
  {
   "cell_type": "code",
   "execution_count": 43,
   "metadata": {},
   "outputs": [],
   "source": [
    "# convert 'trip_year data' type to numeric\n",
    "yoy_julsep_df['trip_year'] = pd.to_numeric(yoy_julsep_df['trip_year'])"
   ]
  },
  {
   "cell_type": "code",
   "execution_count": 44,
   "metadata": {},
   "outputs": [],
   "source": [
    "# extract trip month from 'starttime' and store in anew column called 'month'\n",
    "yoy_julsep_df['month'] = yoy_julsep_df['starttime'].str[5:7]"
   ]
  },
  {
   "cell_type": "code",
   "execution_count": 45,
   "metadata": {},
   "outputs": [],
   "source": [
    "# convert trip 'month' data type to numeric\n",
    "yoy_julsep_df['month'] = pd.to_numeric(yoy_julsep_df['month'])"
   ]
  },
  {
   "cell_type": "code",
   "execution_count": 46,
   "metadata": {},
   "outputs": [],
   "source": [
    "# function that returns the starttime's annual quarter time period\n",
    "def quarter_cat(row):\n",
    "\n",
    "    if row['month'] >= 1 and row['month'] <= 3:\n",
    "        qtr_val = 'Q1'\n",
    "    elif row['month'] >= 4 and row['month'] <= 6:\n",
    "        qtr_val = 'Q2'\n",
    "    elif row['month'] >= 7 and row['month'] <= 9:\n",
    "        qtr_val = 'Q3'\n",
    "    elif row['month'] >= 10 and row['month'] <= 12:\n",
    "        qtr_val = 'Q4'\n",
    "    else:\n",
    "        qtr_val = 'NaN'\n",
    "    return qtr_val"
   ]
  },
  {
   "cell_type": "code",
   "execution_count": 47,
   "metadata": {},
   "outputs": [],
   "source": [
    "# use the quarter category function to return the quarter value to a new column called 'quarter'\n",
    "yoy_julsep_df['quarter'] = yoy_julsep_df.apply(quarter_cat, axis=1)"
   ]
  },
  {
   "cell_type": "code",
   "execution_count": 48,
   "metadata": {},
   "outputs": [],
   "source": [
    "# function that returns the starttime's season\n",
    "def season_cat(row):\n",
    "\n",
    "    if row['month'] >= 1 and row['month'] <= 2:\n",
    "        season_val = 'winter'\n",
    "    elif row['month'] >= 4 and row['month'] <= 5:\n",
    "        season_val = 'spring'\n",
    "    elif row['month'] >= 7 and row['month'] <= 8:\n",
    "        season_val = 'summer'\n",
    "    elif row['month'] >= 9 and row['month'] <= 10:\n",
    "        season_val = 'fall'\n",
    "    else:\n",
    "        season_val = 'other'\n",
    "    return season_val"
   ]
  },
  {
   "cell_type": "code",
   "execution_count": 49,
   "metadata": {},
   "outputs": [],
   "source": [
    "# use the season category function to return the season value to a new column called 'season'\n",
    "yoy_julsep_df['season'] = yoy_julsep_df.apply(season_cat, axis=1)"
   ]
  },
  {
   "cell_type": "markdown",
   "metadata": {},
   "source": [
    "#### create new variables for rider sex and age"
   ]
  },
  {
   "cell_type": "code",
   "execution_count": 50,
   "metadata": {},
   "outputs": [],
   "source": [
    "# function that returns the sex of the rider\n",
    "def sex_label(row):\n",
    "\n",
    "    if row['gender'] == 2:\n",
    "        sex_val = 'female'\n",
    "    elif row['gender'] == 1:\n",
    "        sex_val = 'male'\n",
    "    else:\n",
    "        sex_val = 'na'\n",
    "    return sex_val"
   ]
  },
  {
   "cell_type": "code",
   "execution_count": 51,
   "metadata": {},
   "outputs": [],
   "source": [
    "# use the sex category function to return the rider's sex to a new column called 'sex'\n",
    "yoy_julsep_df['sex'] = yoy_julsep_df.apply(sex_label, axis=1)"
   ]
  },
  {
   "cell_type": "code",
   "execution_count": 52,
   "metadata": {},
   "outputs": [],
   "source": [
    "# function that returns the approximate age of the rider\n",
    "# NOTE: using the random modulus 2 value to assign the rider's birth to the first half or second half of the year since the\n",
    "#       source data does not have a birth month\n",
    "\n",
    "def age_calc(row):\n",
    "\n",
    "    if row['birth year'] >= 2000:\n",
    "        age_val = row['trip_year'] - row['birth year'] + row['mod2']\n",
    "    elif row['birth year'] >= 1930:\n",
    "        age_val = (2000 - row['birth year']) + (row['trip_year'] - 2000) + row['mod2']\n",
    "    else:\n",
    "        age_val = 'na'\n",
    "    return age_val"
   ]
  },
  {
   "cell_type": "code",
   "execution_count": 53,
   "metadata": {},
   "outputs": [],
   "source": [
    "# use the age category function to return the rider's age to a new column called 'age'\n",
    "yoy_julsep_df['age'] = yoy_julsep_df.apply(age_calc, axis=1)"
   ]
  },
  {
   "cell_type": "code",
   "execution_count": 54,
   "metadata": {},
   "outputs": [],
   "source": [
    "# drop the 'mod2' and 'Random_integer' columns to reduce the size of the file imported into Tableau\n",
    "yoy_julsep_df = yoy_julsep_df.drop('mod2', axis=1)\n",
    "yoy_julsep_df = yoy_julsep_df.drop('Random_integer', axis=1)"
   ]
  },
  {
   "cell_type": "markdown",
   "metadata": {},
   "source": [
    "#### check data types, sample table records, value counts "
   ]
  },
  {
   "cell_type": "code",
   "execution_count": 55,
   "metadata": {},
   "outputs": [
    {
     "data": {
      "text/plain": [
       "tripduration                 int64\n",
       "starttime                   object\n",
       "stoptime                    object\n",
       "start station id            object\n",
       "start station name          object\n",
       "start station latitude     float64\n",
       "start station longitude    float64\n",
       "end station id              object\n",
       "end station name            object\n",
       "end station latitude       float64\n",
       "end station longitude      float64\n",
       "bikeid                      object\n",
       "usertype                    object\n",
       "birth year                 float64\n",
       "gender                       int64\n",
       "trip_len_hrs               float64\n",
       "trip_year                    int64\n",
       "month                        int64\n",
       "quarter                     object\n",
       "season                      object\n",
       "sex                         object\n",
       "age                         object\n",
       "dtype: object"
      ]
     },
     "execution_count": 55,
     "metadata": {},
     "output_type": "execute_result"
    }
   ],
   "source": [
    "yoy_julsep_df.dtypes"
   ]
  },
  {
   "cell_type": "code",
   "execution_count": 56,
   "metadata": {
    "scrolled": true
   },
   "outputs": [
    {
     "data": {
      "text/html": [
       "<div>\n",
       "<style scoped>\n",
       "    .dataframe tbody tr th:only-of-type {\n",
       "        vertical-align: middle;\n",
       "    }\n",
       "\n",
       "    .dataframe tbody tr th {\n",
       "        vertical-align: top;\n",
       "    }\n",
       "\n",
       "    .dataframe thead th {\n",
       "        text-align: right;\n",
       "    }\n",
       "</style>\n",
       "<table border=\"1\" class=\"dataframe\">\n",
       "  <thead>\n",
       "    <tr style=\"text-align: right;\">\n",
       "      <th></th>\n",
       "      <th>tripduration</th>\n",
       "      <th>starttime</th>\n",
       "      <th>stoptime</th>\n",
       "      <th>start station id</th>\n",
       "      <th>start station name</th>\n",
       "      <th>start station latitude</th>\n",
       "      <th>start station longitude</th>\n",
       "      <th>end station id</th>\n",
       "      <th>end station name</th>\n",
       "      <th>end station latitude</th>\n",
       "      <th>...</th>\n",
       "      <th>usertype</th>\n",
       "      <th>birth year</th>\n",
       "      <th>gender</th>\n",
       "      <th>trip_len_hrs</th>\n",
       "      <th>trip_year</th>\n",
       "      <th>month</th>\n",
       "      <th>quarter</th>\n",
       "      <th>season</th>\n",
       "      <th>sex</th>\n",
       "      <th>age</th>\n",
       "    </tr>\n",
       "  </thead>\n",
       "  <tbody>\n",
       "    <tr>\n",
       "      <th>0</th>\n",
       "      <td>609</td>\n",
       "      <td>2016-07-01 00:00:31</td>\n",
       "      <td>2016-07-01 00:10:40</td>\n",
       "      <td>284.0</td>\n",
       "      <td>Greenwich Ave &amp; 8 Ave</td>\n",
       "      <td>40.739017</td>\n",
       "      <td>-74.002638</td>\n",
       "      <td>212.0</td>\n",
       "      <td>W 16 St &amp; The High Line</td>\n",
       "      <td>40.743349</td>\n",
       "      <td>...</td>\n",
       "      <td>Customer</td>\n",
       "      <td>NaN</td>\n",
       "      <td>0</td>\n",
       "      <td>0.169167</td>\n",
       "      <td>2016</td>\n",
       "      <td>7</td>\n",
       "      <td>Q3</td>\n",
       "      <td>summer</td>\n",
       "      <td>na</td>\n",
       "      <td>na</td>\n",
       "    </tr>\n",
       "    <tr>\n",
       "      <th>1</th>\n",
       "      <td>672</td>\n",
       "      <td>2016-07-01 00:00:45</td>\n",
       "      <td>2016-07-01 00:11:57</td>\n",
       "      <td>459.0</td>\n",
       "      <td>W 20 St &amp; 11 Ave</td>\n",
       "      <td>40.746745</td>\n",
       "      <td>-74.007756</td>\n",
       "      <td>347.0</td>\n",
       "      <td>Greenwich St &amp; W Houston St</td>\n",
       "      <td>40.728846</td>\n",
       "      <td>...</td>\n",
       "      <td>Subscriber</td>\n",
       "      <td>1991.0</td>\n",
       "      <td>1</td>\n",
       "      <td>0.186667</td>\n",
       "      <td>2016</td>\n",
       "      <td>7</td>\n",
       "      <td>Q3</td>\n",
       "      <td>summer</td>\n",
       "      <td>male</td>\n",
       "      <td>26</td>\n",
       "    </tr>\n",
       "    <tr>\n",
       "      <th>2</th>\n",
       "      <td>472</td>\n",
       "      <td>2016-07-01 00:00:55</td>\n",
       "      <td>2016-07-01 00:08:48</td>\n",
       "      <td>319.0</td>\n",
       "      <td>Fulton St &amp; Broadway</td>\n",
       "      <td>40.711066</td>\n",
       "      <td>-74.009447</td>\n",
       "      <td>263.0</td>\n",
       "      <td>Elizabeth St &amp; Hester St</td>\n",
       "      <td>40.717591</td>\n",
       "      <td>...</td>\n",
       "      <td>Subscriber</td>\n",
       "      <td>1986.0</td>\n",
       "      <td>2</td>\n",
       "      <td>0.131111</td>\n",
       "      <td>2016</td>\n",
       "      <td>7</td>\n",
       "      <td>Q3</td>\n",
       "      <td>summer</td>\n",
       "      <td>female</td>\n",
       "      <td>31</td>\n",
       "    </tr>\n",
       "    <tr>\n",
       "      <th>3</th>\n",
       "      <td>659</td>\n",
       "      <td>2016-07-01 00:02:13</td>\n",
       "      <td>2016-07-01 00:13:13</td>\n",
       "      <td>237.0</td>\n",
       "      <td>E 11 St &amp; 2 Ave</td>\n",
       "      <td>40.730473</td>\n",
       "      <td>-73.986724</td>\n",
       "      <td>519.0</td>\n",
       "      <td>Pershing Square North</td>\n",
       "      <td>40.751873</td>\n",
       "      <td>...</td>\n",
       "      <td>Subscriber</td>\n",
       "      <td>1970.0</td>\n",
       "      <td>1</td>\n",
       "      <td>0.183056</td>\n",
       "      <td>2016</td>\n",
       "      <td>7</td>\n",
       "      <td>Q3</td>\n",
       "      <td>summer</td>\n",
       "      <td>male</td>\n",
       "      <td>47</td>\n",
       "    </tr>\n",
       "    <tr>\n",
       "      <th>4</th>\n",
       "      <td>275</td>\n",
       "      <td>2016-07-01 00:02:47</td>\n",
       "      <td>2016-07-01 00:07:22</td>\n",
       "      <td>511.0</td>\n",
       "      <td>E 14 St &amp; Avenue B</td>\n",
       "      <td>40.729387</td>\n",
       "      <td>-73.977724</td>\n",
       "      <td>483.0</td>\n",
       "      <td>E 12 St &amp; 3 Ave</td>\n",
       "      <td>40.732233</td>\n",
       "      <td>...</td>\n",
       "      <td>Subscriber</td>\n",
       "      <td>1984.0</td>\n",
       "      <td>1</td>\n",
       "      <td>0.076389</td>\n",
       "      <td>2016</td>\n",
       "      <td>7</td>\n",
       "      <td>Q3</td>\n",
       "      <td>summer</td>\n",
       "      <td>male</td>\n",
       "      <td>32</td>\n",
       "    </tr>\n",
       "    <tr>\n",
       "      <th>5</th>\n",
       "      <td>247</td>\n",
       "      <td>2016-07-01 00:04:30</td>\n",
       "      <td>2016-07-01 00:08:37</td>\n",
       "      <td>3135.0</td>\n",
       "      <td>E 75 St &amp; 3 Ave</td>\n",
       "      <td>40.771129</td>\n",
       "      <td>-73.957723</td>\n",
       "      <td>3231.0</td>\n",
       "      <td>E 67 St &amp; Park Ave</td>\n",
       "      <td>40.767801</td>\n",
       "      <td>...</td>\n",
       "      <td>Subscriber</td>\n",
       "      <td>1989.0</td>\n",
       "      <td>1</td>\n",
       "      <td>0.068611</td>\n",
       "      <td>2016</td>\n",
       "      <td>7</td>\n",
       "      <td>Q3</td>\n",
       "      <td>summer</td>\n",
       "      <td>male</td>\n",
       "      <td>27</td>\n",
       "    </tr>\n",
       "    <tr>\n",
       "      <th>6</th>\n",
       "      <td>1816</td>\n",
       "      <td>2016-07-01 00:05:26</td>\n",
       "      <td>2016-07-01 00:35:43</td>\n",
       "      <td>3074.0</td>\n",
       "      <td>Montrose Ave &amp; Bushwick Ave</td>\n",
       "      <td>40.707678</td>\n",
       "      <td>-73.940162</td>\n",
       "      <td>439.0</td>\n",
       "      <td>E 4 St &amp; 2 Ave</td>\n",
       "      <td>40.726281</td>\n",
       "      <td>...</td>\n",
       "      <td>Subscriber</td>\n",
       "      <td>1993.0</td>\n",
       "      <td>1</td>\n",
       "      <td>0.504444</td>\n",
       "      <td>2016</td>\n",
       "      <td>7</td>\n",
       "      <td>Q3</td>\n",
       "      <td>summer</td>\n",
       "      <td>male</td>\n",
       "      <td>23</td>\n",
       "    </tr>\n",
       "    <tr>\n",
       "      <th>7</th>\n",
       "      <td>693</td>\n",
       "      <td>2016-07-01 00:06:21</td>\n",
       "      <td>2016-07-01 00:17:54</td>\n",
       "      <td>293.0</td>\n",
       "      <td>Lafayette St &amp; E 8 St</td>\n",
       "      <td>40.730287</td>\n",
       "      <td>-73.990765</td>\n",
       "      <td>518.0</td>\n",
       "      <td>E 39 St &amp; 2 Ave</td>\n",
       "      <td>40.747804</td>\n",
       "      <td>...</td>\n",
       "      <td>Subscriber</td>\n",
       "      <td>1986.0</td>\n",
       "      <td>1</td>\n",
       "      <td>0.192500</td>\n",
       "      <td>2016</td>\n",
       "      <td>7</td>\n",
       "      <td>Q3</td>\n",
       "      <td>summer</td>\n",
       "      <td>male</td>\n",
       "      <td>30</td>\n",
       "    </tr>\n",
       "    <tr>\n",
       "      <th>8</th>\n",
       "      <td>947</td>\n",
       "      <td>2016-07-01 00:07:32</td>\n",
       "      <td>2016-07-01 00:23:20</td>\n",
       "      <td>479.0</td>\n",
       "      <td>9 Ave &amp; W 45 St</td>\n",
       "      <td>40.760193</td>\n",
       "      <td>-73.991255</td>\n",
       "      <td>153.0</td>\n",
       "      <td>E 40 St &amp; 5 Ave</td>\n",
       "      <td>40.752062</td>\n",
       "      <td>...</td>\n",
       "      <td>Customer</td>\n",
       "      <td>NaN</td>\n",
       "      <td>0</td>\n",
       "      <td>0.263056</td>\n",
       "      <td>2016</td>\n",
       "      <td>7</td>\n",
       "      <td>Q3</td>\n",
       "      <td>summer</td>\n",
       "      <td>na</td>\n",
       "      <td>na</td>\n",
       "    </tr>\n",
       "    <tr>\n",
       "      <th>9</th>\n",
       "      <td>244</td>\n",
       "      <td>2016-07-01 00:08:41</td>\n",
       "      <td>2016-07-01 00:12:45</td>\n",
       "      <td>3224.0</td>\n",
       "      <td>W 13 St &amp; Hudson St</td>\n",
       "      <td>40.739974</td>\n",
       "      <td>-74.005139</td>\n",
       "      <td>383.0</td>\n",
       "      <td>Greenwich Ave &amp; Charles St</td>\n",
       "      <td>40.735238</td>\n",
       "      <td>...</td>\n",
       "      <td>Subscriber</td>\n",
       "      <td>1986.0</td>\n",
       "      <td>1</td>\n",
       "      <td>0.067778</td>\n",
       "      <td>2016</td>\n",
       "      <td>7</td>\n",
       "      <td>Q3</td>\n",
       "      <td>summer</td>\n",
       "      <td>male</td>\n",
       "      <td>31</td>\n",
       "    </tr>\n",
       "  </tbody>\n",
       "</table>\n",
       "<p>10 rows × 22 columns</p>\n",
       "</div>"
      ],
      "text/plain": [
       "   tripduration            starttime             stoptime start station id  \\\n",
       "0           609  2016-07-01 00:00:31  2016-07-01 00:10:40            284.0   \n",
       "1           672  2016-07-01 00:00:45  2016-07-01 00:11:57            459.0   \n",
       "2           472  2016-07-01 00:00:55  2016-07-01 00:08:48            319.0   \n",
       "3           659  2016-07-01 00:02:13  2016-07-01 00:13:13            237.0   \n",
       "4           275  2016-07-01 00:02:47  2016-07-01 00:07:22            511.0   \n",
       "5           247  2016-07-01 00:04:30  2016-07-01 00:08:37           3135.0   \n",
       "6          1816  2016-07-01 00:05:26  2016-07-01 00:35:43           3074.0   \n",
       "7           693  2016-07-01 00:06:21  2016-07-01 00:17:54            293.0   \n",
       "8           947  2016-07-01 00:07:32  2016-07-01 00:23:20            479.0   \n",
       "9           244  2016-07-01 00:08:41  2016-07-01 00:12:45           3224.0   \n",
       "\n",
       "            start station name  start station latitude  \\\n",
       "0        Greenwich Ave & 8 Ave               40.739017   \n",
       "1             W 20 St & 11 Ave               40.746745   \n",
       "2         Fulton St & Broadway               40.711066   \n",
       "3              E 11 St & 2 Ave               40.730473   \n",
       "4           E 14 St & Avenue B               40.729387   \n",
       "5              E 75 St & 3 Ave               40.771129   \n",
       "6  Montrose Ave & Bushwick Ave               40.707678   \n",
       "7        Lafayette St & E 8 St               40.730287   \n",
       "8              9 Ave & W 45 St               40.760193   \n",
       "9          W 13 St & Hudson St               40.739974   \n",
       "\n",
       "   start station longitude end station id             end station name  \\\n",
       "0               -74.002638          212.0      W 16 St & The High Line   \n",
       "1               -74.007756          347.0  Greenwich St & W Houston St   \n",
       "2               -74.009447          263.0     Elizabeth St & Hester St   \n",
       "3               -73.986724          519.0        Pershing Square North   \n",
       "4               -73.977724          483.0              E 12 St & 3 Ave   \n",
       "5               -73.957723         3231.0           E 67 St & Park Ave   \n",
       "6               -73.940162          439.0               E 4 St & 2 Ave   \n",
       "7               -73.990765          518.0              E 39 St & 2 Ave   \n",
       "8               -73.991255          153.0              E 40 St & 5 Ave   \n",
       "9               -74.005139          383.0   Greenwich Ave & Charles St   \n",
       "\n",
       "   end station latitude  ...    usertype birth year gender  trip_len_hrs  \\\n",
       "0             40.743349  ...    Customer        NaN      0      0.169167   \n",
       "1             40.728846  ...  Subscriber     1991.0      1      0.186667   \n",
       "2             40.717591  ...  Subscriber     1986.0      2      0.131111   \n",
       "3             40.751873  ...  Subscriber     1970.0      1      0.183056   \n",
       "4             40.732233  ...  Subscriber     1984.0      1      0.076389   \n",
       "5             40.767801  ...  Subscriber     1989.0      1      0.068611   \n",
       "6             40.726281  ...  Subscriber     1993.0      1      0.504444   \n",
       "7             40.747804  ...  Subscriber     1986.0      1      0.192500   \n",
       "8             40.752062  ...    Customer        NaN      0      0.263056   \n",
       "9             40.735238  ...  Subscriber     1986.0      1      0.067778   \n",
       "\n",
       "   trip_year  month  quarter  season     sex age  \n",
       "0       2016      7       Q3  summer      na  na  \n",
       "1       2016      7       Q3  summer    male  26  \n",
       "2       2016      7       Q3  summer  female  31  \n",
       "3       2016      7       Q3  summer    male  47  \n",
       "4       2016      7       Q3  summer    male  32  \n",
       "5       2016      7       Q3  summer    male  27  \n",
       "6       2016      7       Q3  summer    male  23  \n",
       "7       2016      7       Q3  summer    male  30  \n",
       "8       2016      7       Q3  summer      na  na  \n",
       "9       2016      7       Q3  summer    male  31  \n",
       "\n",
       "[10 rows x 22 columns]"
      ]
     },
     "execution_count": 56,
     "metadata": {},
     "output_type": "execute_result"
    }
   ],
   "source": [
    "yoy_julsep_df.head(10)"
   ]
  },
  {
   "cell_type": "markdown",
   "metadata": {},
   "source": [
    "#### output detailed YOY ride data to csv for importing into Tableau"
   ]
  },
  {
   "cell_type": "code",
   "execution_count": 57,
   "metadata": {},
   "outputs": [],
   "source": [
    "yoy_julsep_df.to_csv(\"Output/yoy_julsep_2016to2019.csv\", index=False)"
   ]
  }
 ],
 "metadata": {
  "kernelspec": {
   "display_name": "Python 3",
   "language": "python",
   "name": "python3"
  },
  "language_info": {
   "codemirror_mode": {
    "name": "ipython",
    "version": 3
   },
   "file_extension": ".py",
   "mimetype": "text/x-python",
   "name": "python",
   "nbconvert_exporter": "python",
   "pygments_lexer": "ipython3",
   "version": "3.7.5"
  }
 },
 "nbformat": 4,
 "nbformat_minor": 2
}
