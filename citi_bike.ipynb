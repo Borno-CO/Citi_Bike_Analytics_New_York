{
 "cells": [
  {
   "cell_type": "markdown",
   "metadata": {},
   "source": [
    "## Compile complete 12-month ride data for 2019\n",
    "## Script 2 of 2"
   ]
  },
  {
   "cell_type": "markdown",
   "metadata": {},
   "source": [
    "> Some of the questions posed by Citi Bike require a full year of ride data to be used for exploring seasonality and other analytic perspectives requiring a full 12 months of ride activity. I elected to use rider data from all of 2019, which at the time of the analysis was the most recent full year of data. \n",
    "\n",
    ">**The 12-month 2019 data is prepared using two different Jupyter Notebook scripts.** The first step was to combine separate New York and Jersey City files for each month of 2019 (see ) . **This second script** combines the monthly data into a single dataframe and processes the combined file further by cleaning data and creating additional variables (columns).\n",
    "\n",
    ">NOTE: the **downloaded source data** is *not* cloned to GitHub due to its size. Files with sample source records for 201901 are included in the 'Resources' folder on GitHub. Also, **output files for Tableau** only contain a sample of records in the 'Output' folder; again, due to file size constraints."
   ]
  },
  {
   "cell_type": "code",
   "execution_count": 4,
   "metadata": {},
   "outputs": [],
   "source": [
    "# import libraries\n",
    "import pandas as pd\n",
    "import numpy as np"
   ]
  },
  {
   "cell_type": "markdown",
   "metadata": {},
   "source": [
    "#### read the csv files with the monthly ride data"
   ]
  },
  {
   "cell_type": "code",
   "execution_count": 5,
   "metadata": {},
   "outputs": [],
   "source": [
    "file_path = ('Resources/sample_citi_201901.csv')\n",
    "citi_01_df = pd.read_csv(file_path)"
   ]
  },
  {
   "cell_type": "code",
   "execution_count": 6,
   "metadata": {},
   "outputs": [],
   "source": [
    "file_path = ('Resources/sample_citi_201902.csv')\n",
    "citi_02_df = pd.read_csv(file_path)"
   ]
  },
  {
   "cell_type": "code",
   "execution_count": 7,
   "metadata": {},
   "outputs": [],
   "source": [
    "file_path = ('Resources/sample_citi_201903.csv')\n",
    "citi_03_df = pd.read_csv(file_path)"
   ]
  },
  {
   "cell_type": "code",
   "execution_count": 8,
   "metadata": {},
   "outputs": [],
   "source": [
    "file_path = ('Resources/sample_citi_201904.csv')\n",
    "citi_04_df = pd.read_csv(file_path)"
   ]
  },
  {
   "cell_type": "code",
   "execution_count": 9,
   "metadata": {},
   "outputs": [],
   "source": [
    "file_path = ('Resources/sample_citi_201905.csv')\n",
    "citi_05_df = pd.read_csv(file_path)"
   ]
  },
  {
   "cell_type": "code",
   "execution_count": 10,
   "metadata": {},
   "outputs": [],
   "source": [
    "file_path = ('Resources/sample_citi_201906.csv')\n",
    "citi_06_df = pd.read_csv(file_path)"
   ]
  },
  {
   "cell_type": "code",
   "execution_count": 11,
   "metadata": {},
   "outputs": [],
   "source": [
    "file_path = ('Resources/sample_citi_201907.csv')\n",
    "citi_07_df = pd.read_csv(file_path)"
   ]
  },
  {
   "cell_type": "code",
   "execution_count": 12,
   "metadata": {},
   "outputs": [],
   "source": [
    "file_path = ('Resources/sample_citi_201908.csv')\n",
    "citi_08_df = pd.read_csv(file_path)"
   ]
  },
  {
   "cell_type": "code",
   "execution_count": 13,
   "metadata": {},
   "outputs": [],
   "source": [
    "file_path = ('Resources/sample_citi_201909.csv')\n",
    "citi_09_df = pd.read_csv(file_path)"
   ]
  },
  {
   "cell_type": "code",
   "execution_count": 14,
   "metadata": {},
   "outputs": [],
   "source": [
    "file_path = ('Resources/sample_citi_201910.csv')\n",
    "citi_10_df = pd.read_csv(file_path)"
   ]
  },
  {
   "cell_type": "code",
   "execution_count": 15,
   "metadata": {},
   "outputs": [],
   "source": [
    "file_path = ('Resources/sample_citi_201911.csv')\n",
    "citi_11_df = pd.read_csv(file_path)"
   ]
  },
  {
   "cell_type": "code",
   "execution_count": 16,
   "metadata": {},
   "outputs": [],
   "source": [
    "file_path = ('Resources/sample_citi_201912.csv')\n",
    "citi_12_df = pd.read_csv(file_path)"
   ]
  },
  {
   "cell_type": "markdown",
   "metadata": {},
   "source": [
    "#### append each monthly file to successive dataframes that accumulate all 12 months of detailed ride data into a single dataframe called 'citi_2019_df'"
   ]
  },
  {
   "cell_type": "code",
   "execution_count": 17,
   "metadata": {},
   "outputs": [],
   "source": [
    "citi_1902_df = citi_01_df.append(citi_02_df, ignore_index = True) "
   ]
  },
  {
   "cell_type": "code",
   "execution_count": 18,
   "metadata": {},
   "outputs": [],
   "source": [
    "citi_1903_df = citi_1902_df.append(citi_03_df, ignore_index = True)"
   ]
  },
  {
   "cell_type": "code",
   "execution_count": 19,
   "metadata": {},
   "outputs": [],
   "source": [
    "citi_1904_df = citi_1903_df.append(citi_04_df, ignore_index = True)"
   ]
  },
  {
   "cell_type": "code",
   "execution_count": 20,
   "metadata": {},
   "outputs": [],
   "source": [
    "citi_1905_df = citi_1904_df.append(citi_05_df, ignore_index = True)"
   ]
  },
  {
   "cell_type": "code",
   "execution_count": 21,
   "metadata": {},
   "outputs": [],
   "source": [
    "citi_1906_df = citi_1905_df.append(citi_06_df, ignore_index = True)"
   ]
  },
  {
   "cell_type": "code",
   "execution_count": 22,
   "metadata": {},
   "outputs": [],
   "source": [
    "citi_1907_df = citi_1906_df.append(citi_07_df, ignore_index = True)"
   ]
  },
  {
   "cell_type": "code",
   "execution_count": 23,
   "metadata": {},
   "outputs": [],
   "source": [
    "citi_1908_df = citi_1907_df.append(citi_08_df, ignore_index = True)"
   ]
  },
  {
   "cell_type": "code",
   "execution_count": 24,
   "metadata": {},
   "outputs": [],
   "source": [
    "citi_1909_df = citi_1908_df.append(citi_09_df, ignore_index = True)"
   ]
  },
  {
   "cell_type": "code",
   "execution_count": 25,
   "metadata": {},
   "outputs": [],
   "source": [
    "citi_1910_df = citi_1909_df.append(citi_10_df, ignore_index = True)"
   ]
  },
  {
   "cell_type": "code",
   "execution_count": 26,
   "metadata": {},
   "outputs": [],
   "source": [
    "citi_1911_df = citi_1910_df.append(citi_11_df, ignore_index = True)"
   ]
  },
  {
   "cell_type": "code",
   "execution_count": 27,
   "metadata": {},
   "outputs": [],
   "source": [
    "citi_2019_df = citi_1911_df.append(citi_12_df, ignore_index = True)"
   ]
  },
  {
   "cell_type": "markdown",
   "metadata": {},
   "source": [
    "#### inspect data types, sample table records, value counts "
   ]
  },
  {
   "cell_type": "code",
   "execution_count": 28,
   "metadata": {},
   "outputs": [
    {
     "data": {
      "text/plain": [
       "tripduration                 int64\n",
       "starttime                   object\n",
       "stoptime                    object\n",
       "start station id           float64\n",
       "start station name          object\n",
       "start station latitude     float64\n",
       "start station longitude    float64\n",
       "end station id             float64\n",
       "end station name            object\n",
       "end station latitude       float64\n",
       "end station longitude      float64\n",
       "bikeid                       int64\n",
       "usertype                    object\n",
       "birth year                   int64\n",
       "gender                       int64\n",
       "Random_integer               int64\n",
       "mod10                        int64\n",
       "dtype: object"
      ]
     },
     "execution_count": 28,
     "metadata": {},
     "output_type": "execute_result"
    }
   ],
   "source": [
    "citi_2019_df.dtypes"
   ]
  },
  {
   "cell_type": "code",
   "execution_count": 29,
   "metadata": {},
   "outputs": [
    {
     "data": {
      "text/html": [
       "<div>\n",
       "<style scoped>\n",
       "    .dataframe tbody tr th:only-of-type {\n",
       "        vertical-align: middle;\n",
       "    }\n",
       "\n",
       "    .dataframe tbody tr th {\n",
       "        vertical-align: top;\n",
       "    }\n",
       "\n",
       "    .dataframe thead th {\n",
       "        text-align: right;\n",
       "    }\n",
       "</style>\n",
       "<table border=\"1\" class=\"dataframe\">\n",
       "  <thead>\n",
       "    <tr style=\"text-align: right;\">\n",
       "      <th></th>\n",
       "      <th>tripduration</th>\n",
       "      <th>starttime</th>\n",
       "      <th>stoptime</th>\n",
       "      <th>start station id</th>\n",
       "      <th>start station name</th>\n",
       "      <th>start station latitude</th>\n",
       "      <th>start station longitude</th>\n",
       "      <th>end station id</th>\n",
       "      <th>end station name</th>\n",
       "      <th>end station latitude</th>\n",
       "      <th>end station longitude</th>\n",
       "      <th>bikeid</th>\n",
       "      <th>usertype</th>\n",
       "      <th>birth year</th>\n",
       "      <th>gender</th>\n",
       "      <th>Random_integer</th>\n",
       "      <th>mod10</th>\n",
       "    </tr>\n",
       "  </thead>\n",
       "  <tbody>\n",
       "    <tr>\n",
       "      <th>0</th>\n",
       "      <td>3494</td>\n",
       "      <td>2019-01-01 00:18:57.5640</td>\n",
       "      <td>2019-01-01 01:17:11.5700</td>\n",
       "      <td>3171.0</td>\n",
       "      <td>Amsterdam Ave &amp; W 82 St</td>\n",
       "      <td>40.785247</td>\n",
       "      <td>-73.976673</td>\n",
       "      <td>3164.0</td>\n",
       "      <td>Columbus Ave &amp; W 72 St</td>\n",
       "      <td>40.777057</td>\n",
       "      <td>-73.978985</td>\n",
       "      <td>35785</td>\n",
       "      <td>Subscriber</td>\n",
       "      <td>1954</td>\n",
       "      <td>1</td>\n",
       "      <td>75477</td>\n",
       "      <td>7</td>\n",
       "    </tr>\n",
       "    <tr>\n",
       "      <th>1</th>\n",
       "      <td>1145</td>\n",
       "      <td>2019-01-01 00:25:00.0880</td>\n",
       "      <td>2019-01-01 00:44:05.4970</td>\n",
       "      <td>3163.0</td>\n",
       "      <td>Central Park West &amp; W 68 St</td>\n",
       "      <td>40.773407</td>\n",
       "      <td>-73.977825</td>\n",
       "      <td>490.0</td>\n",
       "      <td>8 Ave &amp; W 33 St</td>\n",
       "      <td>40.751551</td>\n",
       "      <td>-73.993934</td>\n",
       "      <td>24945</td>\n",
       "      <td>Customer</td>\n",
       "      <td>1969</td>\n",
       "      <td>0</td>\n",
       "      <td>73107</td>\n",
       "      <td>7</td>\n",
       "    </tr>\n",
       "    <tr>\n",
       "      <th>2</th>\n",
       "      <td>607</td>\n",
       "      <td>2019-01-01 00:26:16.4100</td>\n",
       "      <td>2019-01-01 00:36:23.8570</td>\n",
       "      <td>285.0</td>\n",
       "      <td>Broadway &amp; E 14 St</td>\n",
       "      <td>40.734546</td>\n",
       "      <td>-73.990741</td>\n",
       "      <td>301.0</td>\n",
       "      <td>E 2 St &amp; Avenue B</td>\n",
       "      <td>40.722174</td>\n",
       "      <td>-73.983688</td>\n",
       "      <td>33456</td>\n",
       "      <td>Subscriber</td>\n",
       "      <td>1999</td>\n",
       "      <td>1</td>\n",
       "      <td>45887</td>\n",
       "      <td>7</td>\n",
       "    </tr>\n",
       "    <tr>\n",
       "      <th>3</th>\n",
       "      <td>813</td>\n",
       "      <td>2019-01-01 00:27:12.5070</td>\n",
       "      <td>2019-01-01 00:40:45.5940</td>\n",
       "      <td>3165.0</td>\n",
       "      <td>Central Park West &amp; W 72 St</td>\n",
       "      <td>40.775794</td>\n",
       "      <td>-73.976206</td>\n",
       "      <td>450.0</td>\n",
       "      <td>W 49 St &amp; 8 Ave</td>\n",
       "      <td>40.762272</td>\n",
       "      <td>-73.987882</td>\n",
       "      <td>32899</td>\n",
       "      <td>Subscriber</td>\n",
       "      <td>1970</td>\n",
       "      <td>1</td>\n",
       "      <td>77387</td>\n",
       "      <td>7</td>\n",
       "    </tr>\n",
       "    <tr>\n",
       "      <th>4</th>\n",
       "      <td>837</td>\n",
       "      <td>2019-01-01 00:35:00.3960</td>\n",
       "      <td>2019-01-01 00:48:57.7890</td>\n",
       "      <td>3115.0</td>\n",
       "      <td>India St &amp; Manhattan Ave</td>\n",
       "      <td>40.732322</td>\n",
       "      <td>-73.955086</td>\n",
       "      <td>3067.0</td>\n",
       "      <td>Broadway &amp; Whipple St</td>\n",
       "      <td>40.701666</td>\n",
       "      <td>-73.943730</td>\n",
       "      <td>21528</td>\n",
       "      <td>Subscriber</td>\n",
       "      <td>1989</td>\n",
       "      <td>1</td>\n",
       "      <td>59297</td>\n",
       "      <td>7</td>\n",
       "    </tr>\n",
       "    <tr>\n",
       "      <th>5</th>\n",
       "      <td>2919</td>\n",
       "      <td>2019-01-01 00:42:01.2580</td>\n",
       "      <td>2019-01-01 01:30:40.5560</td>\n",
       "      <td>3285.0</td>\n",
       "      <td>W 87 St &amp; Amsterdam Ave</td>\n",
       "      <td>40.788390</td>\n",
       "      <td>-73.974700</td>\n",
       "      <td>3162.0</td>\n",
       "      <td>W 78 St &amp; Broadway</td>\n",
       "      <td>40.783400</td>\n",
       "      <td>-73.980931</td>\n",
       "      <td>18737</td>\n",
       "      <td>Subscriber</td>\n",
       "      <td>1972</td>\n",
       "      <td>1</td>\n",
       "      <td>93767</td>\n",
       "      <td>7</td>\n",
       "    </tr>\n",
       "    <tr>\n",
       "      <th>6</th>\n",
       "      <td>1437</td>\n",
       "      <td>2019-01-01 00:43:32.3160</td>\n",
       "      <td>2019-01-01 01:07:29.5040</td>\n",
       "      <td>3140.0</td>\n",
       "      <td>1 Ave &amp; E 78 St</td>\n",
       "      <td>40.771404</td>\n",
       "      <td>-73.953517</td>\n",
       "      <td>3553.0</td>\n",
       "      <td>Frederick Douglass Blvd &amp; W 112 St</td>\n",
       "      <td>40.801694</td>\n",
       "      <td>-73.957145</td>\n",
       "      <td>32496</td>\n",
       "      <td>Customer</td>\n",
       "      <td>1981</td>\n",
       "      <td>2</td>\n",
       "      <td>23557</td>\n",
       "      <td>7</td>\n",
       "    </tr>\n",
       "    <tr>\n",
       "      <th>7</th>\n",
       "      <td>100</td>\n",
       "      <td>2019-01-01 00:45:32.6070</td>\n",
       "      <td>2019-01-01 00:47:12.7270</td>\n",
       "      <td>3286.0</td>\n",
       "      <td>E 89 St &amp; 3 Ave</td>\n",
       "      <td>40.780628</td>\n",
       "      <td>-73.952167</td>\n",
       "      <td>3305.0</td>\n",
       "      <td>E 91 St &amp; 2 Ave</td>\n",
       "      <td>40.781122</td>\n",
       "      <td>-73.949656</td>\n",
       "      <td>27766</td>\n",
       "      <td>Subscriber</td>\n",
       "      <td>1999</td>\n",
       "      <td>1</td>\n",
       "      <td>2257</td>\n",
       "      <td>7</td>\n",
       "    </tr>\n",
       "    <tr>\n",
       "      <th>8</th>\n",
       "      <td>282</td>\n",
       "      <td>2019-01-01 00:47:58.6860</td>\n",
       "      <td>2019-01-01 00:52:41.5200</td>\n",
       "      <td>504.0</td>\n",
       "      <td>1 Ave &amp; E 16 St</td>\n",
       "      <td>40.732219</td>\n",
       "      <td>-73.981656</td>\n",
       "      <td>487.0</td>\n",
       "      <td>E 20 St &amp; FDR Drive</td>\n",
       "      <td>40.733143</td>\n",
       "      <td>-73.975739</td>\n",
       "      <td>17370</td>\n",
       "      <td>Subscriber</td>\n",
       "      <td>1990</td>\n",
       "      <td>1</td>\n",
       "      <td>14227</td>\n",
       "      <td>7</td>\n",
       "    </tr>\n",
       "    <tr>\n",
       "      <th>9</th>\n",
       "      <td>468</td>\n",
       "      <td>2019-01-01 00:49:05.1410</td>\n",
       "      <td>2019-01-01 00:56:53.2090</td>\n",
       "      <td>195.0</td>\n",
       "      <td>Liberty St &amp; Broadway</td>\n",
       "      <td>40.709056</td>\n",
       "      <td>-74.010434</td>\n",
       "      <td>195.0</td>\n",
       "      <td>Liberty St &amp; Broadway</td>\n",
       "      <td>40.709056</td>\n",
       "      <td>-74.010434</td>\n",
       "      <td>20120</td>\n",
       "      <td>Subscriber</td>\n",
       "      <td>1980</td>\n",
       "      <td>1</td>\n",
       "      <td>30657</td>\n",
       "      <td>7</td>\n",
       "    </tr>\n",
       "  </tbody>\n",
       "</table>\n",
       "</div>"
      ],
      "text/plain": [
       "   tripduration                 starttime                  stoptime  \\\n",
       "0          3494  2019-01-01 00:18:57.5640  2019-01-01 01:17:11.5700   \n",
       "1          1145  2019-01-01 00:25:00.0880  2019-01-01 00:44:05.4970   \n",
       "2           607  2019-01-01 00:26:16.4100  2019-01-01 00:36:23.8570   \n",
       "3           813  2019-01-01 00:27:12.5070  2019-01-01 00:40:45.5940   \n",
       "4           837  2019-01-01 00:35:00.3960  2019-01-01 00:48:57.7890   \n",
       "5          2919  2019-01-01 00:42:01.2580  2019-01-01 01:30:40.5560   \n",
       "6          1437  2019-01-01 00:43:32.3160  2019-01-01 01:07:29.5040   \n",
       "7           100  2019-01-01 00:45:32.6070  2019-01-01 00:47:12.7270   \n",
       "8           282  2019-01-01 00:47:58.6860  2019-01-01 00:52:41.5200   \n",
       "9           468  2019-01-01 00:49:05.1410  2019-01-01 00:56:53.2090   \n",
       "\n",
       "   start station id           start station name  start station latitude  \\\n",
       "0            3171.0      Amsterdam Ave & W 82 St               40.785247   \n",
       "1            3163.0  Central Park West & W 68 St               40.773407   \n",
       "2             285.0           Broadway & E 14 St               40.734546   \n",
       "3            3165.0  Central Park West & W 72 St               40.775794   \n",
       "4            3115.0     India St & Manhattan Ave               40.732322   \n",
       "5            3285.0      W 87 St & Amsterdam Ave               40.788390   \n",
       "6            3140.0              1 Ave & E 78 St               40.771404   \n",
       "7            3286.0              E 89 St & 3 Ave               40.780628   \n",
       "8             504.0              1 Ave & E 16 St               40.732219   \n",
       "9             195.0        Liberty St & Broadway               40.709056   \n",
       "\n",
       "   start station longitude  end station id  \\\n",
       "0               -73.976673          3164.0   \n",
       "1               -73.977825           490.0   \n",
       "2               -73.990741           301.0   \n",
       "3               -73.976206           450.0   \n",
       "4               -73.955086          3067.0   \n",
       "5               -73.974700          3162.0   \n",
       "6               -73.953517          3553.0   \n",
       "7               -73.952167          3305.0   \n",
       "8               -73.981656           487.0   \n",
       "9               -74.010434           195.0   \n",
       "\n",
       "                     end station name  end station latitude  \\\n",
       "0              Columbus Ave & W 72 St             40.777057   \n",
       "1                     8 Ave & W 33 St             40.751551   \n",
       "2                   E 2 St & Avenue B             40.722174   \n",
       "3                     W 49 St & 8 Ave             40.762272   \n",
       "4               Broadway & Whipple St             40.701666   \n",
       "5                  W 78 St & Broadway             40.783400   \n",
       "6  Frederick Douglass Blvd & W 112 St             40.801694   \n",
       "7                     E 91 St & 2 Ave             40.781122   \n",
       "8                 E 20 St & FDR Drive             40.733143   \n",
       "9               Liberty St & Broadway             40.709056   \n",
       "\n",
       "   end station longitude  bikeid    usertype  birth year  gender  \\\n",
       "0             -73.978985   35785  Subscriber        1954       1   \n",
       "1             -73.993934   24945    Customer        1969       0   \n",
       "2             -73.983688   33456  Subscriber        1999       1   \n",
       "3             -73.987882   32899  Subscriber        1970       1   \n",
       "4             -73.943730   21528  Subscriber        1989       1   \n",
       "5             -73.980931   18737  Subscriber        1972       1   \n",
       "6             -73.957145   32496    Customer        1981       2   \n",
       "7             -73.949656   27766  Subscriber        1999       1   \n",
       "8             -73.975739   17370  Subscriber        1990       1   \n",
       "9             -74.010434   20120  Subscriber        1980       1   \n",
       "\n",
       "   Random_integer  mod10  \n",
       "0           75477      7  \n",
       "1           73107      7  \n",
       "2           45887      7  \n",
       "3           77387      7  \n",
       "4           59297      7  \n",
       "5           93767      7  \n",
       "6           23557      7  \n",
       "7            2257      7  \n",
       "8           14227      7  \n",
       "9           30657      7  "
      ]
     },
     "execution_count": 29,
     "metadata": {},
     "output_type": "execute_result"
    }
   ],
   "source": [
    "citi_2019_df.head(10)"
   ]
  },
  {
   "cell_type": "code",
   "execution_count": 30,
   "metadata": {},
   "outputs": [
    {
     "data": {
      "text/plain": [
       "1969    174239\n",
       "1989     87197\n",
       "1990     86685\n",
       "1991     83554\n",
       "1988     82340\n",
       "1992     81853\n",
       "1993     75289\n",
       "1987     74329\n",
       "1986     68496\n",
       "1985     67300\n",
       "1994     66974\n",
       "1984     62491\n",
       "1983     57760\n",
       "1995     56732\n",
       "1982     53286\n",
       "1981     50298\n",
       "1980     47887\n",
       "1979     43863\n",
       "1978     37828\n",
       "1977     37201\n",
       "1996     36575\n",
       "1976     36528\n",
       "1970     35667\n",
       "1975     35071\n",
       "1971     32858\n",
       "1974     32754\n",
       "1972     32466\n",
       "1973     31845\n",
       "1968     29917\n",
       "1967     28920\n",
       "         ...  \n",
       "1921        32\n",
       "1917        30\n",
       "1928        29\n",
       "1885        26\n",
       "1899        25\n",
       "1893        25\n",
       "1886        24\n",
       "1887        23\n",
       "1912        23\n",
       "1910        19\n",
       "1911        15\n",
       "1919        14\n",
       "1918        11\n",
       "1929        11\n",
       "1895        10\n",
       "1931        10\n",
       "1915        10\n",
       "1909         9\n",
       "1916         9\n",
       "1913         5\n",
       "1920         4\n",
       "1922         4\n",
       "1907         3\n",
       "1923         3\n",
       "1904         3\n",
       "1894         2\n",
       "1874         1\n",
       "1891         1\n",
       "1926         1\n",
       "1857         1\n",
       "Name: birth year, Length: 110, dtype: int64"
      ]
     },
     "execution_count": 30,
     "metadata": {},
     "output_type": "execute_result"
    }
   ],
   "source": [
    "citi_2019_df[\"birth year\"].value_counts()"
   ]
  },
  {
   "cell_type": "code",
   "execution_count": 31,
   "metadata": {},
   "outputs": [
    {
     "data": {
      "text/plain": [
       "1    1433344\n",
       "2     502998\n",
       "0     158430\n",
       "Name: gender, dtype: int64"
      ]
     },
     "execution_count": 31,
     "metadata": {},
     "output_type": "execute_result"
    }
   ],
   "source": [
    "citi_2019_df[\"gender\"].value_counts()"
   ]
  },
  {
   "cell_type": "markdown",
   "metadata": {},
   "source": [
    "#### assign random integers to each record; the random integers will be used to help reduce the size of the data"
   ]
  },
  {
   "cell_type": "code",
   "execution_count": 32,
   "metadata": {},
   "outputs": [],
   "source": [
    "citi_2019_df['Random_integer'] = np.random.randint(0,100000,size=(len(citi_2019_df),1))"
   ]
  },
  {
   "cell_type": "code",
   "execution_count": 33,
   "metadata": {},
   "outputs": [],
   "source": [
    "# citi_2019_df['mod3'] = citi_2019_df['Random_integer'] % 3"
   ]
  },
  {
   "cell_type": "code",
   "execution_count": 34,
   "metadata": {},
   "outputs": [],
   "source": [
    "# citi_2019_df['mod3'].value_counts()"
   ]
  },
  {
   "cell_type": "markdown",
   "metadata": {},
   "source": [
    "#### create a new column containing modulus '2' values calculated using the Random_integer column"
   ]
  },
  {
   "cell_type": "code",
   "execution_count": 35,
   "metadata": {},
   "outputs": [],
   "source": [
    "citi_2019_df['mod2'] = citi_2019_df['Random_integer'] % 2"
   ]
  },
  {
   "cell_type": "code",
   "execution_count": 36,
   "metadata": {
    "scrolled": true
   },
   "outputs": [
    {
     "data": {
      "text/plain": [
       "0    1047464\n",
       "1    1047308\n",
       "Name: mod2, dtype: int64"
      ]
     },
     "execution_count": 36,
     "metadata": {},
     "output_type": "execute_result"
    }
   ],
   "source": [
    "# check for size of the two random samples created using the modulus operation\n",
    "citi_2019_df[\"mod2\"].value_counts()"
   ]
  },
  {
   "cell_type": "markdown",
   "metadata": {},
   "source": [
    "#### convert data types"
   ]
  },
  {
   "cell_type": "code",
   "execution_count": 37,
   "metadata": {},
   "outputs": [],
   "source": [
    "# convert ids to strings\n",
    "citi_2019_df['start station id'] = citi_2019_df['start station id'].apply(str)\n",
    "citi_2019_df['end station id'] = citi_2019_df['end station id'].apply(str)\n",
    "citi_2019_df['bikeid'] = citi_2019_df['bikeid'].apply(str)"
   ]
  },
  {
   "cell_type": "code",
   "execution_count": 38,
   "metadata": {},
   "outputs": [],
   "source": [
    "# convert startride to datetime\n",
    "citi_2019_df['startride'] = pd.to_datetime(citi_2019_df['starttime'])"
   ]
  },
  {
   "cell_type": "code",
   "execution_count": 39,
   "metadata": {},
   "outputs": [],
   "source": [
    "# convert stopride to datetime\n",
    "citi_2019_df['stopride'] = pd.to_datetime(citi_2019_df['stoptime'])"
   ]
  },
  {
   "cell_type": "code",
   "execution_count": 40,
   "metadata": {
    "scrolled": true
   },
   "outputs": [
    {
     "data": {
      "text/html": [
       "<div>\n",
       "<style scoped>\n",
       "    .dataframe tbody tr th:only-of-type {\n",
       "        vertical-align: middle;\n",
       "    }\n",
       "\n",
       "    .dataframe tbody tr th {\n",
       "        vertical-align: top;\n",
       "    }\n",
       "\n",
       "    .dataframe thead th {\n",
       "        text-align: right;\n",
       "    }\n",
       "</style>\n",
       "<table border=\"1\" class=\"dataframe\">\n",
       "  <thead>\n",
       "    <tr style=\"text-align: right;\">\n",
       "      <th></th>\n",
       "      <th>tripduration</th>\n",
       "      <th>start station latitude</th>\n",
       "      <th>start station longitude</th>\n",
       "      <th>end station latitude</th>\n",
       "      <th>end station longitude</th>\n",
       "      <th>birth year</th>\n",
       "      <th>gender</th>\n",
       "      <th>Random_integer</th>\n",
       "      <th>mod10</th>\n",
       "      <th>mod2</th>\n",
       "    </tr>\n",
       "  </thead>\n",
       "  <tbody>\n",
       "    <tr>\n",
       "      <th>count</th>\n",
       "      <td>2.094772e+06</td>\n",
       "      <td>2.094772e+06</td>\n",
       "      <td>2.094772e+06</td>\n",
       "      <td>2.094772e+06</td>\n",
       "      <td>2.094772e+06</td>\n",
       "      <td>2.094772e+06</td>\n",
       "      <td>2.094772e+06</td>\n",
       "      <td>2.094772e+06</td>\n",
       "      <td>2094772.0</td>\n",
       "      <td>2.094772e+06</td>\n",
       "    </tr>\n",
       "    <tr>\n",
       "      <th>mean</th>\n",
       "      <td>9.714454e+02</td>\n",
       "      <td>4.073704e+01</td>\n",
       "      <td>-7.398322e+01</td>\n",
       "      <td>4.073672e+01</td>\n",
       "      <td>-7.398343e+01</td>\n",
       "      <td>1.980226e+03</td>\n",
       "      <td>1.164490e+00</td>\n",
       "      <td>5.002275e+04</td>\n",
       "      <td>7.0</td>\n",
       "      <td>4.999628e-01</td>\n",
       "    </tr>\n",
       "    <tr>\n",
       "      <th>std</th>\n",
       "      <td>1.073318e+04</td>\n",
       "      <td>3.021881e-02</td>\n",
       "      <td>2.150200e-02</td>\n",
       "      <td>3.007355e-02</td>\n",
       "      <td>2.154243e-02</td>\n",
       "      <td>1.211420e+01</td>\n",
       "      <td>5.373036e-01</td>\n",
       "      <td>2.888250e+04</td>\n",
       "      <td>0.0</td>\n",
       "      <td>5.000001e-01</td>\n",
       "    </tr>\n",
       "    <tr>\n",
       "      <th>min</th>\n",
       "      <td>6.100000e+01</td>\n",
       "      <td>4.065540e+01</td>\n",
       "      <td>-7.408364e+01</td>\n",
       "      <td>4.065540e+01</td>\n",
       "      <td>-7.408364e+01</td>\n",
       "      <td>1.857000e+03</td>\n",
       "      <td>0.000000e+00</td>\n",
       "      <td>0.000000e+00</td>\n",
       "      <td>7.0</td>\n",
       "      <td>0.000000e+00</td>\n",
       "    </tr>\n",
       "    <tr>\n",
       "      <th>25%</th>\n",
       "      <td>3.570000e+02</td>\n",
       "      <td>4.071755e+01</td>\n",
       "      <td>-7.399601e+01</td>\n",
       "      <td>4.071755e+01</td>\n",
       "      <td>-7.399662e+01</td>\n",
       "      <td>1.970000e+03</td>\n",
       "      <td>1.000000e+00</td>\n",
       "      <td>2.501200e+04</td>\n",
       "      <td>7.0</td>\n",
       "      <td>0.000000e+00</td>\n",
       "    </tr>\n",
       "    <tr>\n",
       "      <th>50%</th>\n",
       "      <td>6.090000e+02</td>\n",
       "      <td>4.073705e+01</td>\n",
       "      <td>-7.398584e+01</td>\n",
       "      <td>4.073650e+01</td>\n",
       "      <td>-7.398627e+01</td>\n",
       "      <td>1.983000e+03</td>\n",
       "      <td>1.000000e+00</td>\n",
       "      <td>5.004200e+04</td>\n",
       "      <td>7.0</td>\n",
       "      <td>0.000000e+00</td>\n",
       "    </tr>\n",
       "    <tr>\n",
       "      <th>75%</th>\n",
       "      <td>1.072000e+03</td>\n",
       "      <td>4.075715e+01</td>\n",
       "      <td>-7.397188e+01</td>\n",
       "      <td>4.075651e+01</td>\n",
       "      <td>-7.397208e+01</td>\n",
       "      <td>1.990000e+03</td>\n",
       "      <td>1.000000e+00</td>\n",
       "      <td>7.505000e+04</td>\n",
       "      <td>7.0</td>\n",
       "      <td>1.000000e+00</td>\n",
       "    </tr>\n",
       "    <tr>\n",
       "      <th>max</th>\n",
       "      <td>3.245687e+06</td>\n",
       "      <td>4.086600e+01</td>\n",
       "      <td>-7.388400e+01</td>\n",
       "      <td>4.086600e+01</td>\n",
       "      <td>-7.388100e+01</td>\n",
       "      <td>2.003000e+03</td>\n",
       "      <td>2.000000e+00</td>\n",
       "      <td>9.999900e+04</td>\n",
       "      <td>7.0</td>\n",
       "      <td>1.000000e+00</td>\n",
       "    </tr>\n",
       "  </tbody>\n",
       "</table>\n",
       "</div>"
      ],
      "text/plain": [
       "       tripduration  start station latitude  start station longitude  \\\n",
       "count  2.094772e+06            2.094772e+06             2.094772e+06   \n",
       "mean   9.714454e+02            4.073704e+01            -7.398322e+01   \n",
       "std    1.073318e+04            3.021881e-02             2.150200e-02   \n",
       "min    6.100000e+01            4.065540e+01            -7.408364e+01   \n",
       "25%    3.570000e+02            4.071755e+01            -7.399601e+01   \n",
       "50%    6.090000e+02            4.073705e+01            -7.398584e+01   \n",
       "75%    1.072000e+03            4.075715e+01            -7.397188e+01   \n",
       "max    3.245687e+06            4.086600e+01            -7.388400e+01   \n",
       "\n",
       "       end station latitude  end station longitude    birth year  \\\n",
       "count          2.094772e+06           2.094772e+06  2.094772e+06   \n",
       "mean           4.073672e+01          -7.398343e+01  1.980226e+03   \n",
       "std            3.007355e-02           2.154243e-02  1.211420e+01   \n",
       "min            4.065540e+01          -7.408364e+01  1.857000e+03   \n",
       "25%            4.071755e+01          -7.399662e+01  1.970000e+03   \n",
       "50%            4.073650e+01          -7.398627e+01  1.983000e+03   \n",
       "75%            4.075651e+01          -7.397208e+01  1.990000e+03   \n",
       "max            4.086600e+01          -7.388100e+01  2.003000e+03   \n",
       "\n",
       "             gender  Random_integer      mod10          mod2  \n",
       "count  2.094772e+06    2.094772e+06  2094772.0  2.094772e+06  \n",
       "mean   1.164490e+00    5.002275e+04        7.0  4.999628e-01  \n",
       "std    5.373036e-01    2.888250e+04        0.0  5.000001e-01  \n",
       "min    0.000000e+00    0.000000e+00        7.0  0.000000e+00  \n",
       "25%    1.000000e+00    2.501200e+04        7.0  0.000000e+00  \n",
       "50%    1.000000e+00    5.004200e+04        7.0  0.000000e+00  \n",
       "75%    1.000000e+00    7.505000e+04        7.0  1.000000e+00  \n",
       "max    2.000000e+00    9.999900e+04        7.0  1.000000e+00  "
      ]
     },
     "execution_count": 40,
     "metadata": {},
     "output_type": "execute_result"
    }
   ],
   "source": [
    "# inspect data for counts, min/max range, mean\n",
    "citi_2019_df.describe()"
   ]
  },
  {
   "cell_type": "markdown",
   "metadata": {},
   "source": [
    "#### convert trip length from seconds to hours for easier comprehension in Tableau visuals"
   ]
  },
  {
   "cell_type": "code",
   "execution_count": 41,
   "metadata": {},
   "outputs": [],
   "source": [
    "citi_2019_df['trip_len_hrs'] = citi_2019_df['tripduration'] / 3600\n",
    "    "
   ]
  },
  {
   "cell_type": "markdown",
   "metadata": {},
   "source": [
    "#### create new variables for time periods (year, month, quarter, season)"
   ]
  },
  {
   "cell_type": "code",
   "execution_count": 42,
   "metadata": {},
   "outputs": [],
   "source": [
    "# extract trip year from 'starttime' and store in a new column called 'trip_year' \n",
    "citi_2019_df['trip_year'] = citi_2019_df['starttime'].str[:4]"
   ]
  },
  {
   "cell_type": "code",
   "execution_count": 43,
   "metadata": {},
   "outputs": [],
   "source": [
    "# convert 'trip_year data' type to numeric\n",
    "citi_2019_df['trip_year'] = pd.to_numeric(citi_2019_df['trip_year'])"
   ]
  },
  {
   "cell_type": "code",
   "execution_count": 44,
   "metadata": {},
   "outputs": [],
   "source": [
    "# extract trip month from 'starttime' and store in anew column called 'month'\n",
    "citi_2019_df['month'] = citi_2019_df['starttime'].str[5:7]"
   ]
  },
  {
   "cell_type": "code",
   "execution_count": 45,
   "metadata": {},
   "outputs": [],
   "source": [
    "# convert trip 'month' data type to numeric\n",
    "citi_2019_df['month'] = pd.to_numeric(citi_2019_df['month'])"
   ]
  },
  {
   "cell_type": "code",
   "execution_count": 46,
   "metadata": {},
   "outputs": [],
   "source": [
    "# function that returns the starttime's annual quarter time period\n",
    "def quarter_cat(row):\n",
    "\n",
    "    if row['month'] >= 1 and row['month'] <= 3:\n",
    "        qtr_val = 'Q1'\n",
    "    elif row['month'] >= 4 and row['month'] <= 6:\n",
    "        qtr_val = 'Q2'\n",
    "    elif row['month'] >= 7 and row['month'] <= 9:\n",
    "        qtr_val = 'Q3'\n",
    "    elif row['month'] >= 10 and row['month'] <= 12:\n",
    "        qtr_val = 'Q4'\n",
    "    else:\n",
    "        qtr_val = 'NaN'\n",
    "    return qtr_val"
   ]
  },
  {
   "cell_type": "code",
   "execution_count": 47,
   "metadata": {},
   "outputs": [],
   "source": [
    "# use the quarter category function to return the quarter value to a new column called 'quarter'\n",
    "citi_2019_df['quarter'] = citi_2019_df.apply(quarter_cat, axis=1)"
   ]
  },
  {
   "cell_type": "code",
   "execution_count": 48,
   "metadata": {},
   "outputs": [],
   "source": [
    "# function that returns the starttime's season\n",
    "def season_cat(row):\n",
    "\n",
    "    if row['month'] >= 1 and row['month'] <= 2:\n",
    "        season_val = 'winter'\n",
    "    elif row['month'] >= 4 and row['month'] <= 5:\n",
    "        season_val = 'spring'\n",
    "    elif row['month'] >= 7 and row['month'] <= 8:\n",
    "        season_val = 'summer'\n",
    "    elif row['month'] >= 9 and row['month'] <= 10:\n",
    "        season_val = 'fall'\n",
    "    else:\n",
    "        season_val = 'other'\n",
    "    return season_val"
   ]
  },
  {
   "cell_type": "code",
   "execution_count": 49,
   "metadata": {},
   "outputs": [],
   "source": [
    "# use the season category function to return the season value to a new column called 'season'\n",
    "citi_2019_df['season'] = citi_2019_df.apply(season_cat, axis=1)"
   ]
  },
  {
   "cell_type": "markdown",
   "metadata": {},
   "source": [
    "#### create new variables for rider sex and age"
   ]
  },
  {
   "cell_type": "code",
   "execution_count": 50,
   "metadata": {},
   "outputs": [],
   "source": [
    "# function that returns the sex of the rider\n",
    "def sex_label(row):\n",
    "\n",
    "    if row['gender'] == 2:\n",
    "        sex_val = 'female'\n",
    "    elif row['gender'] == 1:\n",
    "        sex_val = 'male'\n",
    "    else:\n",
    "        sex_val = 'na'\n",
    "    return sex_val"
   ]
  },
  {
   "cell_type": "code",
   "execution_count": 51,
   "metadata": {},
   "outputs": [],
   "source": [
    "# use the sex category function to return the rider's sex to a new column called 'sex'\n",
    "citi_2019_df['sex'] = citi_2019_df.apply(sex_label, axis=1)"
   ]
  },
  {
   "cell_type": "code",
   "execution_count": 52,
   "metadata": {},
   "outputs": [],
   "source": [
    "# function that returns the approximate age of the rider\n",
    "# NOTE: using the random modulus 2 value to assign the rider's birth to the first half or second half of the year since the\n",
    "#       source data does not have a birth month\n",
    "\n",
    "def age_calc(row):\n",
    "\n",
    "    if row['birth year'] >= 2000:\n",
    "        age_val = row['trip_year'] - row['birth year'] + row['mod2']\n",
    "    elif row['birth year'] >= 1930:\n",
    "        age_val = (2000 - row['birth year']) + (row['trip_year'] - 2000) + row['mod2']\n",
    "    else:\n",
    "        age_val = 'na'\n",
    "    return age_val"
   ]
  },
  {
   "cell_type": "code",
   "execution_count": 53,
   "metadata": {},
   "outputs": [],
   "source": [
    "# use the age category function to return the rider's age to a new column called 'age'\n",
    "citi_2019_df['age'] = citi_2019_df.apply(age_calc, axis=1)"
   ]
  },
  {
   "cell_type": "code",
   "execution_count": 54,
   "metadata": {},
   "outputs": [],
   "source": [
    "# drop the 'mod2' and 'Random_integer' columns to reduce the size of the file imported into Tableau\n",
    "citi_2019_df = citi_2019_df.drop('mod2', axis=1)\n",
    "citi_2019_df = citi_2019_df.drop('Random_integer', axis=1)"
   ]
  },
  {
   "cell_type": "markdown",
   "metadata": {},
   "source": [
    "#### check data types, sample table records, value counts "
   ]
  },
  {
   "cell_type": "code",
   "execution_count": 55,
   "metadata": {},
   "outputs": [
    {
     "data": {
      "text/plain": [
       "tripduration                        int64\n",
       "starttime                          object\n",
       "stoptime                           object\n",
       "start station id                   object\n",
       "start station name                 object\n",
       "start station latitude            float64\n",
       "start station longitude           float64\n",
       "end station id                     object\n",
       "end station name                   object\n",
       "end station latitude              float64\n",
       "end station longitude             float64\n",
       "bikeid                             object\n",
       "usertype                           object\n",
       "birth year                          int64\n",
       "gender                              int64\n",
       "mod10                               int64\n",
       "startride                  datetime64[ns]\n",
       "stopride                   datetime64[ns]\n",
       "trip_len_hrs                      float64\n",
       "trip_year                           int64\n",
       "month                               int64\n",
       "quarter                            object\n",
       "season                             object\n",
       "sex                                object\n",
       "age                                object\n",
       "dtype: object"
      ]
     },
     "execution_count": 55,
     "metadata": {},
     "output_type": "execute_result"
    }
   ],
   "source": [
    "citi_2019_df.dtypes"
   ]
  },
  {
   "cell_type": "code",
   "execution_count": 56,
   "metadata": {},
   "outputs": [
    {
     "data": {
      "text/html": [
       "<div>\n",
       "<style scoped>\n",
       "    .dataframe tbody tr th:only-of-type {\n",
       "        vertical-align: middle;\n",
       "    }\n",
       "\n",
       "    .dataframe tbody tr th {\n",
       "        vertical-align: top;\n",
       "    }\n",
       "\n",
       "    .dataframe thead th {\n",
       "        text-align: right;\n",
       "    }\n",
       "</style>\n",
       "<table border=\"1\" class=\"dataframe\">\n",
       "  <thead>\n",
       "    <tr style=\"text-align: right;\">\n",
       "      <th></th>\n",
       "      <th>tripduration</th>\n",
       "      <th>starttime</th>\n",
       "      <th>stoptime</th>\n",
       "      <th>start station id</th>\n",
       "      <th>start station name</th>\n",
       "      <th>start station latitude</th>\n",
       "      <th>start station longitude</th>\n",
       "      <th>end station id</th>\n",
       "      <th>end station name</th>\n",
       "      <th>end station latitude</th>\n",
       "      <th>...</th>\n",
       "      <th>mod10</th>\n",
       "      <th>startride</th>\n",
       "      <th>stopride</th>\n",
       "      <th>trip_len_hrs</th>\n",
       "      <th>trip_year</th>\n",
       "      <th>month</th>\n",
       "      <th>quarter</th>\n",
       "      <th>season</th>\n",
       "      <th>sex</th>\n",
       "      <th>age</th>\n",
       "    </tr>\n",
       "  </thead>\n",
       "  <tbody>\n",
       "    <tr>\n",
       "      <th>0</th>\n",
       "      <td>3494</td>\n",
       "      <td>2019-01-01 00:18:57.5640</td>\n",
       "      <td>2019-01-01 01:17:11.5700</td>\n",
       "      <td>3171.0</td>\n",
       "      <td>Amsterdam Ave &amp; W 82 St</td>\n",
       "      <td>40.785247</td>\n",
       "      <td>-73.976673</td>\n",
       "      <td>3164.0</td>\n",
       "      <td>Columbus Ave &amp; W 72 St</td>\n",
       "      <td>40.777057</td>\n",
       "      <td>...</td>\n",
       "      <td>7</td>\n",
       "      <td>2019-01-01 00:18:57.564</td>\n",
       "      <td>2019-01-01 01:17:11.570</td>\n",
       "      <td>0.970556</td>\n",
       "      <td>2019</td>\n",
       "      <td>1</td>\n",
       "      <td>Q1</td>\n",
       "      <td>winter</td>\n",
       "      <td>male</td>\n",
       "      <td>65</td>\n",
       "    </tr>\n",
       "    <tr>\n",
       "      <th>1</th>\n",
       "      <td>1145</td>\n",
       "      <td>2019-01-01 00:25:00.0880</td>\n",
       "      <td>2019-01-01 00:44:05.4970</td>\n",
       "      <td>3163.0</td>\n",
       "      <td>Central Park West &amp; W 68 St</td>\n",
       "      <td>40.773407</td>\n",
       "      <td>-73.977825</td>\n",
       "      <td>490.0</td>\n",
       "      <td>8 Ave &amp; W 33 St</td>\n",
       "      <td>40.751551</td>\n",
       "      <td>...</td>\n",
       "      <td>7</td>\n",
       "      <td>2019-01-01 00:25:00.088</td>\n",
       "      <td>2019-01-01 00:44:05.497</td>\n",
       "      <td>0.318056</td>\n",
       "      <td>2019</td>\n",
       "      <td>1</td>\n",
       "      <td>Q1</td>\n",
       "      <td>winter</td>\n",
       "      <td>na</td>\n",
       "      <td>51</td>\n",
       "    </tr>\n",
       "    <tr>\n",
       "      <th>2</th>\n",
       "      <td>607</td>\n",
       "      <td>2019-01-01 00:26:16.4100</td>\n",
       "      <td>2019-01-01 00:36:23.8570</td>\n",
       "      <td>285.0</td>\n",
       "      <td>Broadway &amp; E 14 St</td>\n",
       "      <td>40.734546</td>\n",
       "      <td>-73.990741</td>\n",
       "      <td>301.0</td>\n",
       "      <td>E 2 St &amp; Avenue B</td>\n",
       "      <td>40.722174</td>\n",
       "      <td>...</td>\n",
       "      <td>7</td>\n",
       "      <td>2019-01-01 00:26:16.410</td>\n",
       "      <td>2019-01-01 00:36:23.857</td>\n",
       "      <td>0.168611</td>\n",
       "      <td>2019</td>\n",
       "      <td>1</td>\n",
       "      <td>Q1</td>\n",
       "      <td>winter</td>\n",
       "      <td>male</td>\n",
       "      <td>21</td>\n",
       "    </tr>\n",
       "    <tr>\n",
       "      <th>3</th>\n",
       "      <td>813</td>\n",
       "      <td>2019-01-01 00:27:12.5070</td>\n",
       "      <td>2019-01-01 00:40:45.5940</td>\n",
       "      <td>3165.0</td>\n",
       "      <td>Central Park West &amp; W 72 St</td>\n",
       "      <td>40.775794</td>\n",
       "      <td>-73.976206</td>\n",
       "      <td>450.0</td>\n",
       "      <td>W 49 St &amp; 8 Ave</td>\n",
       "      <td>40.762272</td>\n",
       "      <td>...</td>\n",
       "      <td>7</td>\n",
       "      <td>2019-01-01 00:27:12.507</td>\n",
       "      <td>2019-01-01 00:40:45.594</td>\n",
       "      <td>0.225833</td>\n",
       "      <td>2019</td>\n",
       "      <td>1</td>\n",
       "      <td>Q1</td>\n",
       "      <td>winter</td>\n",
       "      <td>male</td>\n",
       "      <td>49</td>\n",
       "    </tr>\n",
       "    <tr>\n",
       "      <th>4</th>\n",
       "      <td>837</td>\n",
       "      <td>2019-01-01 00:35:00.3960</td>\n",
       "      <td>2019-01-01 00:48:57.7890</td>\n",
       "      <td>3115.0</td>\n",
       "      <td>India St &amp; Manhattan Ave</td>\n",
       "      <td>40.732322</td>\n",
       "      <td>-73.955086</td>\n",
       "      <td>3067.0</td>\n",
       "      <td>Broadway &amp; Whipple St</td>\n",
       "      <td>40.701666</td>\n",
       "      <td>...</td>\n",
       "      <td>7</td>\n",
       "      <td>2019-01-01 00:35:00.396</td>\n",
       "      <td>2019-01-01 00:48:57.789</td>\n",
       "      <td>0.232500</td>\n",
       "      <td>2019</td>\n",
       "      <td>1</td>\n",
       "      <td>Q1</td>\n",
       "      <td>winter</td>\n",
       "      <td>male</td>\n",
       "      <td>31</td>\n",
       "    </tr>\n",
       "    <tr>\n",
       "      <th>5</th>\n",
       "      <td>2919</td>\n",
       "      <td>2019-01-01 00:42:01.2580</td>\n",
       "      <td>2019-01-01 01:30:40.5560</td>\n",
       "      <td>3285.0</td>\n",
       "      <td>W 87 St &amp; Amsterdam Ave</td>\n",
       "      <td>40.788390</td>\n",
       "      <td>-73.974700</td>\n",
       "      <td>3162.0</td>\n",
       "      <td>W 78 St &amp; Broadway</td>\n",
       "      <td>40.783400</td>\n",
       "      <td>...</td>\n",
       "      <td>7</td>\n",
       "      <td>2019-01-01 00:42:01.258</td>\n",
       "      <td>2019-01-01 01:30:40.556</td>\n",
       "      <td>0.810833</td>\n",
       "      <td>2019</td>\n",
       "      <td>1</td>\n",
       "      <td>Q1</td>\n",
       "      <td>winter</td>\n",
       "      <td>male</td>\n",
       "      <td>47</td>\n",
       "    </tr>\n",
       "    <tr>\n",
       "      <th>6</th>\n",
       "      <td>1437</td>\n",
       "      <td>2019-01-01 00:43:32.3160</td>\n",
       "      <td>2019-01-01 01:07:29.5040</td>\n",
       "      <td>3140.0</td>\n",
       "      <td>1 Ave &amp; E 78 St</td>\n",
       "      <td>40.771404</td>\n",
       "      <td>-73.953517</td>\n",
       "      <td>3553.0</td>\n",
       "      <td>Frederick Douglass Blvd &amp; W 112 St</td>\n",
       "      <td>40.801694</td>\n",
       "      <td>...</td>\n",
       "      <td>7</td>\n",
       "      <td>2019-01-01 00:43:32.316</td>\n",
       "      <td>2019-01-01 01:07:29.504</td>\n",
       "      <td>0.399167</td>\n",
       "      <td>2019</td>\n",
       "      <td>1</td>\n",
       "      <td>Q1</td>\n",
       "      <td>winter</td>\n",
       "      <td>female</td>\n",
       "      <td>39</td>\n",
       "    </tr>\n",
       "    <tr>\n",
       "      <th>7</th>\n",
       "      <td>100</td>\n",
       "      <td>2019-01-01 00:45:32.6070</td>\n",
       "      <td>2019-01-01 00:47:12.7270</td>\n",
       "      <td>3286.0</td>\n",
       "      <td>E 89 St &amp; 3 Ave</td>\n",
       "      <td>40.780628</td>\n",
       "      <td>-73.952167</td>\n",
       "      <td>3305.0</td>\n",
       "      <td>E 91 St &amp; 2 Ave</td>\n",
       "      <td>40.781122</td>\n",
       "      <td>...</td>\n",
       "      <td>7</td>\n",
       "      <td>2019-01-01 00:45:32.607</td>\n",
       "      <td>2019-01-01 00:47:12.727</td>\n",
       "      <td>0.027778</td>\n",
       "      <td>2019</td>\n",
       "      <td>1</td>\n",
       "      <td>Q1</td>\n",
       "      <td>winter</td>\n",
       "      <td>male</td>\n",
       "      <td>21</td>\n",
       "    </tr>\n",
       "    <tr>\n",
       "      <th>8</th>\n",
       "      <td>282</td>\n",
       "      <td>2019-01-01 00:47:58.6860</td>\n",
       "      <td>2019-01-01 00:52:41.5200</td>\n",
       "      <td>504.0</td>\n",
       "      <td>1 Ave &amp; E 16 St</td>\n",
       "      <td>40.732219</td>\n",
       "      <td>-73.981656</td>\n",
       "      <td>487.0</td>\n",
       "      <td>E 20 St &amp; FDR Drive</td>\n",
       "      <td>40.733143</td>\n",
       "      <td>...</td>\n",
       "      <td>7</td>\n",
       "      <td>2019-01-01 00:47:58.686</td>\n",
       "      <td>2019-01-01 00:52:41.520</td>\n",
       "      <td>0.078333</td>\n",
       "      <td>2019</td>\n",
       "      <td>1</td>\n",
       "      <td>Q1</td>\n",
       "      <td>winter</td>\n",
       "      <td>male</td>\n",
       "      <td>29</td>\n",
       "    </tr>\n",
       "    <tr>\n",
       "      <th>9</th>\n",
       "      <td>468</td>\n",
       "      <td>2019-01-01 00:49:05.1410</td>\n",
       "      <td>2019-01-01 00:56:53.2090</td>\n",
       "      <td>195.0</td>\n",
       "      <td>Liberty St &amp; Broadway</td>\n",
       "      <td>40.709056</td>\n",
       "      <td>-74.010434</td>\n",
       "      <td>195.0</td>\n",
       "      <td>Liberty St &amp; Broadway</td>\n",
       "      <td>40.709056</td>\n",
       "      <td>...</td>\n",
       "      <td>7</td>\n",
       "      <td>2019-01-01 00:49:05.141</td>\n",
       "      <td>2019-01-01 00:56:53.209</td>\n",
       "      <td>0.130000</td>\n",
       "      <td>2019</td>\n",
       "      <td>1</td>\n",
       "      <td>Q1</td>\n",
       "      <td>winter</td>\n",
       "      <td>male</td>\n",
       "      <td>39</td>\n",
       "    </tr>\n",
       "  </tbody>\n",
       "</table>\n",
       "<p>10 rows × 25 columns</p>\n",
       "</div>"
      ],
      "text/plain": [
       "   tripduration                 starttime                  stoptime  \\\n",
       "0          3494  2019-01-01 00:18:57.5640  2019-01-01 01:17:11.5700   \n",
       "1          1145  2019-01-01 00:25:00.0880  2019-01-01 00:44:05.4970   \n",
       "2           607  2019-01-01 00:26:16.4100  2019-01-01 00:36:23.8570   \n",
       "3           813  2019-01-01 00:27:12.5070  2019-01-01 00:40:45.5940   \n",
       "4           837  2019-01-01 00:35:00.3960  2019-01-01 00:48:57.7890   \n",
       "5          2919  2019-01-01 00:42:01.2580  2019-01-01 01:30:40.5560   \n",
       "6          1437  2019-01-01 00:43:32.3160  2019-01-01 01:07:29.5040   \n",
       "7           100  2019-01-01 00:45:32.6070  2019-01-01 00:47:12.7270   \n",
       "8           282  2019-01-01 00:47:58.6860  2019-01-01 00:52:41.5200   \n",
       "9           468  2019-01-01 00:49:05.1410  2019-01-01 00:56:53.2090   \n",
       "\n",
       "  start station id           start station name  start station latitude  \\\n",
       "0           3171.0      Amsterdam Ave & W 82 St               40.785247   \n",
       "1           3163.0  Central Park West & W 68 St               40.773407   \n",
       "2            285.0           Broadway & E 14 St               40.734546   \n",
       "3           3165.0  Central Park West & W 72 St               40.775794   \n",
       "4           3115.0     India St & Manhattan Ave               40.732322   \n",
       "5           3285.0      W 87 St & Amsterdam Ave               40.788390   \n",
       "6           3140.0              1 Ave & E 78 St               40.771404   \n",
       "7           3286.0              E 89 St & 3 Ave               40.780628   \n",
       "8            504.0              1 Ave & E 16 St               40.732219   \n",
       "9            195.0        Liberty St & Broadway               40.709056   \n",
       "\n",
       "   start station longitude end station id                    end station name  \\\n",
       "0               -73.976673         3164.0              Columbus Ave & W 72 St   \n",
       "1               -73.977825          490.0                     8 Ave & W 33 St   \n",
       "2               -73.990741          301.0                   E 2 St & Avenue B   \n",
       "3               -73.976206          450.0                     W 49 St & 8 Ave   \n",
       "4               -73.955086         3067.0               Broadway & Whipple St   \n",
       "5               -73.974700         3162.0                  W 78 St & Broadway   \n",
       "6               -73.953517         3553.0  Frederick Douglass Blvd & W 112 St   \n",
       "7               -73.952167         3305.0                     E 91 St & 2 Ave   \n",
       "8               -73.981656          487.0                 E 20 St & FDR Drive   \n",
       "9               -74.010434          195.0               Liberty St & Broadway   \n",
       "\n",
       "   end station latitude  ...  mod10               startride  \\\n",
       "0             40.777057  ...      7 2019-01-01 00:18:57.564   \n",
       "1             40.751551  ...      7 2019-01-01 00:25:00.088   \n",
       "2             40.722174  ...      7 2019-01-01 00:26:16.410   \n",
       "3             40.762272  ...      7 2019-01-01 00:27:12.507   \n",
       "4             40.701666  ...      7 2019-01-01 00:35:00.396   \n",
       "5             40.783400  ...      7 2019-01-01 00:42:01.258   \n",
       "6             40.801694  ...      7 2019-01-01 00:43:32.316   \n",
       "7             40.781122  ...      7 2019-01-01 00:45:32.607   \n",
       "8             40.733143  ...      7 2019-01-01 00:47:58.686   \n",
       "9             40.709056  ...      7 2019-01-01 00:49:05.141   \n",
       "\n",
       "                 stopride  trip_len_hrs  trip_year  month quarter  season  \\\n",
       "0 2019-01-01 01:17:11.570      0.970556       2019      1      Q1  winter   \n",
       "1 2019-01-01 00:44:05.497      0.318056       2019      1      Q1  winter   \n",
       "2 2019-01-01 00:36:23.857      0.168611       2019      1      Q1  winter   \n",
       "3 2019-01-01 00:40:45.594      0.225833       2019      1      Q1  winter   \n",
       "4 2019-01-01 00:48:57.789      0.232500       2019      1      Q1  winter   \n",
       "5 2019-01-01 01:30:40.556      0.810833       2019      1      Q1  winter   \n",
       "6 2019-01-01 01:07:29.504      0.399167       2019      1      Q1  winter   \n",
       "7 2019-01-01 00:47:12.727      0.027778       2019      1      Q1  winter   \n",
       "8 2019-01-01 00:52:41.520      0.078333       2019      1      Q1  winter   \n",
       "9 2019-01-01 00:56:53.209      0.130000       2019      1      Q1  winter   \n",
       "\n",
       "      sex  age  \n",
       "0    male   65  \n",
       "1      na   51  \n",
       "2    male   21  \n",
       "3    male   49  \n",
       "4    male   31  \n",
       "5    male   47  \n",
       "6  female   39  \n",
       "7    male   21  \n",
       "8    male   29  \n",
       "9    male   39  \n",
       "\n",
       "[10 rows x 25 columns]"
      ]
     },
     "execution_count": 56,
     "metadata": {},
     "output_type": "execute_result"
    }
   ],
   "source": [
    "citi_2019_df.head(10)"
   ]
  },
  {
   "cell_type": "markdown",
   "metadata": {},
   "source": [
    "#### output detailed 2019 ride data to csv for importing into Tableau"
   ]
  },
  {
   "cell_type": "code",
   "execution_count": 57,
   "metadata": {},
   "outputs": [],
   "source": [
    "citi_2019_df.to_csv(\"Output/citi_sample_2019.csv\", index=False)"
   ]
  }
 ],
 "metadata": {
  "kernelspec": {
   "display_name": "Python 3",
   "language": "python",
   "name": "python3"
  },
  "language_info": {
   "codemirror_mode": {
    "name": "ipython",
    "version": 3
   },
   "file_extension": ".py",
   "mimetype": "text/x-python",
   "name": "python",
   "nbconvert_exporter": "python",
   "pygments_lexer": "ipython3",
   "version": "3.7.5"
  }
 },
 "nbformat": 4,
 "nbformat_minor": 2
}
